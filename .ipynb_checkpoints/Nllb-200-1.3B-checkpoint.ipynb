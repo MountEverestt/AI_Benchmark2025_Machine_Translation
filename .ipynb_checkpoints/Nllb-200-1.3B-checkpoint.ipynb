{
 "cells": [
  {
   "cell_type": "code",
   "execution_count": 1,
   "id": "9916dccd-b8e5-47b8-bece-d5818e6554f9",
   "metadata": {},
   "outputs": [],
   "source": [
    "from pathlib import Path\n",
    "import subprocess\n",
    "import os\n",
    "from glob import glob\n",
    "import numpy as np\n",
    "import pandas as pd\n",
    "from datetime import datetime\n",
    "import joblib\n",
    "import warnings\n",
    "from sklearn.base import BaseEstimator, RegressorMixin\n",
    "from sklearn.ensemble import HistGradientBoostingClassifier\n",
    "\n",
    "from sklearn.metrics import roc_auc_score\n",
    "from tqdm.auto import tqdm\n",
    "from sklearn.model_selection import TimeSeriesSplit, GroupKFold, StratifiedGroupKFold\n",
    "from sklearn.base import BaseEstimator, RegressorMixin\n",
    "from sklearn.metrics import roc_auc_score\n",
    "from imblearn.over_sampling import SMOTE\n",
    "from sklearn.preprocessing import OrdinalEncoder\n",
    "from sklearn.impute import KNNImputer\n",
    "from sklearn import metrics\n",
    "import matplotlib.pyplot as plt\n",
    "from sklearn.model_selection import train_test_split\n",
    "from sklearn.metrics import accuracy_score\n",
    "from sklearn.metrics import classification_report\n",
    "from sklearn.datasets import load_wine\n",
    "import pickle\n",
    "import seaborn as sns"
   ]
  },
  {
   "cell_type": "code",
   "execution_count": 2,
   "id": "242d996b-7901-474a-afce-e6d888816d1f",
   "metadata": {},
   "outputs": [
    {
     "data": {
      "text/plain": [
       "M2M100ForConditionalGeneration(\n",
       "  (model): M2M100Model(\n",
       "    (shared): M2M100ScaledWordEmbedding(256206, 1024, padding_idx=1)\n",
       "    (encoder): M2M100Encoder(\n",
       "      (embed_tokens): M2M100ScaledWordEmbedding(256206, 1024, padding_idx=1)\n",
       "      (embed_positions): M2M100SinusoidalPositionalEmbedding()\n",
       "      (layers): ModuleList(\n",
       "        (0-23): 24 x M2M100EncoderLayer(\n",
       "          (self_attn): M2M100SdpaAttention(\n",
       "            (k_proj): Linear(in_features=1024, out_features=1024, bias=True)\n",
       "            (v_proj): Linear(in_features=1024, out_features=1024, bias=True)\n",
       "            (q_proj): Linear(in_features=1024, out_features=1024, bias=True)\n",
       "            (out_proj): Linear(in_features=1024, out_features=1024, bias=True)\n",
       "          )\n",
       "          (self_attn_layer_norm): LayerNorm((1024,), eps=1e-05, elementwise_affine=True)\n",
       "          (activation_fn): ReLU()\n",
       "          (fc1): Linear(in_features=1024, out_features=8192, bias=True)\n",
       "          (fc2): Linear(in_features=8192, out_features=1024, bias=True)\n",
       "          (final_layer_norm): LayerNorm((1024,), eps=1e-05, elementwise_affine=True)\n",
       "        )\n",
       "      )\n",
       "      (layer_norm): LayerNorm((1024,), eps=1e-05, elementwise_affine=True)\n",
       "    )\n",
       "    (decoder): M2M100Decoder(\n",
       "      (embed_tokens): M2M100ScaledWordEmbedding(256206, 1024, padding_idx=1)\n",
       "      (embed_positions): M2M100SinusoidalPositionalEmbedding()\n",
       "      (layers): ModuleList(\n",
       "        (0-23): 24 x M2M100DecoderLayer(\n",
       "          (self_attn): M2M100SdpaAttention(\n",
       "            (k_proj): Linear(in_features=1024, out_features=1024, bias=True)\n",
       "            (v_proj): Linear(in_features=1024, out_features=1024, bias=True)\n",
       "            (q_proj): Linear(in_features=1024, out_features=1024, bias=True)\n",
       "            (out_proj): Linear(in_features=1024, out_features=1024, bias=True)\n",
       "          )\n",
       "          (activation_fn): ReLU()\n",
       "          (self_attn_layer_norm): LayerNorm((1024,), eps=1e-05, elementwise_affine=True)\n",
       "          (encoder_attn): M2M100SdpaAttention(\n",
       "            (k_proj): Linear(in_features=1024, out_features=1024, bias=True)\n",
       "            (v_proj): Linear(in_features=1024, out_features=1024, bias=True)\n",
       "            (q_proj): Linear(in_features=1024, out_features=1024, bias=True)\n",
       "            (out_proj): Linear(in_features=1024, out_features=1024, bias=True)\n",
       "          )\n",
       "          (encoder_attn_layer_norm): LayerNorm((1024,), eps=1e-05, elementwise_affine=True)\n",
       "          (fc1): Linear(in_features=1024, out_features=8192, bias=True)\n",
       "          (fc2): Linear(in_features=8192, out_features=1024, bias=True)\n",
       "          (final_layer_norm): LayerNorm((1024,), eps=1e-05, elementwise_affine=True)\n",
       "        )\n",
       "      )\n",
       "      (layer_norm): LayerNorm((1024,), eps=1e-05, elementwise_affine=True)\n",
       "    )\n",
       "  )\n",
       "  (lm_head): Linear(in_features=1024, out_features=256206, bias=False)\n",
       ")"
      ]
     },
     "execution_count": 2,
     "metadata": {},
     "output_type": "execute_result"
    }
   ],
   "source": [
    "import torch\n",
    "from transformers import AutoModelForSeq2SeqLM, AutoTokenizer\n",
    "\n",
    "device = torch.device(\"cuda\" if torch.cuda.is_available() else \"cpu\")\n",
    "\n",
    "tokenizer = AutoTokenizer.from_pretrained(\"nllb-200-3.3B/tokenize\")\n",
    "\n",
    "model = torch.load(\"nllb-200-3.3B/nllb-200-1.3B.pt\", weights_only = False)\n",
    "model.to(device)\n",
    "model.eval()"
   ]
  },
  {
   "cell_type": "code",
   "execution_count": 3,
   "id": "da441c49-0b8d-43bd-aa93-4ab7c797b541",
   "metadata": {},
   "outputs": [
    {
     "name": "stdout",
     "output_type": "stream",
     "text": [
      "2.6.0+cu124\n",
      "True\n"
     ]
    }
   ],
   "source": [
    "import torch\n",
    "print(torch.__version__)           # Should show 2.2.2+cu118\n",
    "print(torch.cuda.is_available())   # Should return True"
   ]
  },
  {
   "cell_type": "code",
   "execution_count": 4,
   "id": "0fdeba2a-6005-48ad-b1f6-d42eef152a79",
   "metadata": {},
   "outputs": [],
   "source": [
    "data_train = pd.read_json(path_or_buf=\"Data_MT/mt_train.jsonl\", lines=True)\n",
    "data_val = pd.read_json(path_or_buf=\"Data_MT/mt_dev.jsonl\", lines=True)\n",
    "data_test = pd.read_json(path_or_buf=\"Data_MT/mt_test.jsonl\", lines=True)"
   ]
  },
  {
   "cell_type": "code",
   "execution_count": 5,
   "id": "9767f9a4-3f3d-42b8-a84a-12ab4f3c6d89",
   "metadata": {},
   "outputs": [],
   "source": [
    "data_train = data_train.drop('context', axis=1)\n",
    "data_val = data_val.drop('context', axis=1)"
   ]
  },
  {
   "cell_type": "code",
   "execution_count": 6,
   "id": "e635eb21-3ca8-4c41-8d60-ab2670aab4c3",
   "metadata": {},
   "outputs": [
    {
     "data": {
      "text/html": [
       "<div>\n",
       "<style scoped>\n",
       "    .dataframe tbody tr th:only-of-type {\n",
       "        vertical-align: middle;\n",
       "    }\n",
       "\n",
       "    .dataframe tbody tr th {\n",
       "        vertical-align: top;\n",
       "    }\n",
       "\n",
       "    .dataframe thead th {\n",
       "        text-align: right;\n",
       "    }\n",
       "</style>\n",
       "<table border=\"1\" class=\"dataframe\">\n",
       "  <thead>\n",
       "    <tr style=\"text-align: right;\">\n",
       "      <th></th>\n",
       "      <th>source</th>\n",
       "      <th>translation</th>\n",
       "    </tr>\n",
       "  </thead>\n",
       "  <tbody>\n",
       "    <tr>\n",
       "      <th>0</th>\n",
       "      <td>我想咨询件事  我对别人有点敌意</td>\n",
       "      <td>ฉันอยากจะถามอะไรหน่อย ฉันรู้สึกไม่เป็นมิตรกับค...</td>\n",
       "    </tr>\n",
       "    <tr>\n",
       "      <th>1</th>\n",
       "      <td>我考虑细菌性或滴虫性阴道炎的可能性</td>\n",
       "      <td>ฉันกำลังคิดว่าน่าจะเกิดภาวะช่องคลอดอักเสบจากเช...</td>\n",
       "    </tr>\n",
       "    <tr>\n",
       "      <th>2</th>\n",
       "      <td>你好！腰痛发现有多长时间了？是腰中间疼痛还是两侧肌肉疼痛？</td>\n",
       "      <td>สวัสดี คุณมีอาการปวดหลังส่วนล่างมานานแค่ไหนแล้...</td>\n",
       "    </tr>\n",
       "    <tr>\n",
       "      <th>3</th>\n",
       "      <td>是不是平时勤刷牙，多刷干净点就可以减少牙结石的沉积呢？</td>\n",
       "      <td>ถ้าแปรงฟันบ่อยๆ และทำความสะอาดบ่อยๆ ก็จะสามารถ...</td>\n",
       "    </tr>\n",
       "    <tr>\n",
       "      <th>4</th>\n",
       "      <td>周围环境的物理化学因素也可以引起身体过敏</td>\n",
       "      <td>ปัจจัยทางกายภาพและเคมีในสภาพแวดล้อมโดยรอบ ก็สา...</td>\n",
       "    </tr>\n",
       "    <tr>\n",
       "      <th>...</th>\n",
       "      <td>...</td>\n",
       "      <td>...</td>\n",
       "    </tr>\n",
       "    <tr>\n",
       "      <th>18595</th>\n",
       "      <td>[自动回复]您好，现在比较忙，请您留言具体问题，稍后我会及时回复您的问题，请谅解。</td>\n",
       "      <td>[ตอบกลับอัตโนมัติ] สวัสดี ตอนนี้ฉันค่อนข้างยุ่...</td>\n",
       "    </tr>\n",
       "    <tr>\n",
       "      <th>18596</th>\n",
       "      <td>[自动回复]您好，现在比较忙，请您留言具体问题，稍后我会及时回复您的问题，请谅解。</td>\n",
       "      <td>[ตอบกลับอัตโนมัติ] สวัสดี ตอนนี้หมอค่อนข้างยุ่...</td>\n",
       "    </tr>\n",
       "    <tr>\n",
       "      <th>18597</th>\n",
       "      <td>[自动回复]您好，现在比较忙，请您留言具体问题，稍后我会及时回复您的问题，请谅解。</td>\n",
       "      <td>[ตอบกลับอัตโนมัติ] สวัสดี ตอนนี้หมอค่อนข้างยุ่...</td>\n",
       "    </tr>\n",
       "    <tr>\n",
       "      <th>18598</th>\n",
       "      <td>[自动回复]您好，现在比较忙，请您留言具体问题，稍后我会及时回复您的问题，请谅解。</td>\n",
       "      <td>[ตอบกลับอัตโนมัติ] สวัสดี ตอนนี้ฉันค่อนข้างยุ่...</td>\n",
       "    </tr>\n",
       "    <tr>\n",
       "      <th>18599</th>\n",
       "      <td>[自动回复]您好，现在比较忙，请您留言具体问题，稍后我会及时回复您的问题，请谅解。</td>\n",
       "      <td>[ตอบกลับอัตโนมัติ] สวัสดี ตอนนี้ฉันค่อนข้างยุ่...</td>\n",
       "    </tr>\n",
       "  </tbody>\n",
       "</table>\n",
       "<p>18600 rows × 2 columns</p>\n",
       "</div>"
      ],
      "text/plain": [
       "                                          source  \\\n",
       "0                               我想咨询件事  我对别人有点敌意   \n",
       "1                              我考虑细菌性或滴虫性阴道炎的可能性   \n",
       "2                  你好！腰痛发现有多长时间了？是腰中间疼痛还是两侧肌肉疼痛？   \n",
       "3                    是不是平时勤刷牙，多刷干净点就可以减少牙结石的沉积呢？   \n",
       "4                           周围环境的物理化学因素也可以引起身体过敏   \n",
       "...                                          ...   \n",
       "18595  [自动回复]您好，现在比较忙，请您留言具体问题，稍后我会及时回复您的问题，请谅解。   \n",
       "18596  [自动回复]您好，现在比较忙，请您留言具体问题，稍后我会及时回复您的问题，请谅解。   \n",
       "18597  [自动回复]您好，现在比较忙，请您留言具体问题，稍后我会及时回复您的问题，请谅解。   \n",
       "18598  [自动回复]您好，现在比较忙，请您留言具体问题，稍后我会及时回复您的问题，请谅解。   \n",
       "18599  [自动回复]您好，现在比较忙，请您留言具体问题，稍后我会及时回复您的问题，请谅解。   \n",
       "\n",
       "                                             translation  \n",
       "0      ฉันอยากจะถามอะไรหน่อย ฉันรู้สึกไม่เป็นมิตรกับค...  \n",
       "1      ฉันกำลังคิดว่าน่าจะเกิดภาวะช่องคลอดอักเสบจากเช...  \n",
       "2      สวัสดี คุณมีอาการปวดหลังส่วนล่างมานานแค่ไหนแล้...  \n",
       "3      ถ้าแปรงฟันบ่อยๆ และทำความสะอาดบ่อยๆ ก็จะสามารถ...  \n",
       "4      ปัจจัยทางกายภาพและเคมีในสภาพแวดล้อมโดยรอบ ก็สา...  \n",
       "...                                                  ...  \n",
       "18595  [ตอบกลับอัตโนมัติ] สวัสดี ตอนนี้ฉันค่อนข้างยุ่...  \n",
       "18596  [ตอบกลับอัตโนมัติ] สวัสดี ตอนนี้หมอค่อนข้างยุ่...  \n",
       "18597  [ตอบกลับอัตโนมัติ] สวัสดี ตอนนี้หมอค่อนข้างยุ่...  \n",
       "18598  [ตอบกลับอัตโนมัติ] สวัสดี ตอนนี้ฉันค่อนข้างยุ่...  \n",
       "18599  [ตอบกลับอัตโนมัติ] สวัสดี ตอนนี้ฉันค่อนข้างยุ่...  \n",
       "\n",
       "[18600 rows x 2 columns]"
      ]
     },
     "execution_count": 6,
     "metadata": {},
     "output_type": "execute_result"
    }
   ],
   "source": [
    "data_train"
   ]
  },
  {
   "cell_type": "code",
   "execution_count": 7,
   "id": "3f3bbc32-163f-47b8-842a-0ea73ecc509f",
   "metadata": {},
   "outputs": [],
   "source": [
    "from datasets import Dataset, DatasetDict\n",
    "from transformers import (\n",
    "    NllbTokenizer, \n",
    "    M2M100ForConditionalGeneration,\n",
    "    Trainer,\n",
    "    Seq2SeqTrainingArguments,\n",
    "    DataCollatorForSeq2Seq,\n",
    "    EarlyStoppingCallback,\n",
    "    BitsAndBytesConfig,\n",
    "    TrainingArguments\n",
    ")\n",
    "from peft import (\n",
    "    LoraConfig,\n",
    "    get_peft_model,\n",
    "    prepare_model_for_kbit_training,\n",
    "    TaskType\n",
    ")\n",
    "from torch.utils.data import DataLoader\n",
    "import numpy as np\n",
    "from sklearn.model_selection import train_test_split\n",
    "import logging\n",
    "from IPython.display import display, HTML\n",
    "import matplotlib.pyplot as plt\n",
    "\n",
    "class Config:\n",
    "    SRC_LANG = \"zho_Hans\"  # Simplified Chinese\n",
    "    TGT_LANG = \"tha_Thai\"  # Thai\n",
    "    \n",
    "    # Training parameters\n",
    "    OUTPUT_DIR = \"./1.3B-Out-chunk512\"\n",
    "    NUM_EPOCHS = 40\n",
    "    BATCH_SIZE = 2  # Adjust based on your GPU memory\n",
    "    LEARNING_RATE = 1e-5\n",
    "    MAX_LENGTH = 1024\n",
    "\n",
    "config = Config()"
   ]
  },
  {
   "cell_type": "code",
   "execution_count": 8,
   "id": "05b19ca8-2c61-44b0-8cf8-c30dd47ff276",
   "metadata": {},
   "outputs": [
    {
     "data": {
      "text/plain": [
       "0       ตาพร่ามัวและหมดสติเนื่องจากสมองบาดเจ็บ (ชายอาย...\n",
       "1       เดือนที่แล้ว ประจำเดือนครั้งแรกมาตอนต้นเดือน ค...\n",
       "2                  บางคนแพ้ ทำแล้วไม่สบาย อึดอัดและปวดบวม\n",
       "3       ความเครียดเยอะ เบื่ออาหารและน้ำ จะทำให้ผอมลงแล...\n",
       "4              ความรู้สึกตอนนี้คือเหมือนมีอาการประสาทหลอน\n",
       "                              ...                        \n",
       "2995    สวัสดี หินปูนเป็นรอยโรคที่หลงเหลืออยู่หลังจากก...\n",
       "2996            พี่สาวของฉันบอกให้กิน เธอเป็นสูตินรีแพทย์\n",
       "2997          วิธีการรักษาโรคประสาทอ่อน? (ชาย อายุ 31 ปี)\n",
       "2998    หลังการสัมผัสเชื้อมา 3 เดือนสามารถยืนยันได้อย่...\n",
       "2999    ข้อใดข้อหนึ่งก็สามารถตัดความเสี่ยงของการติดเชื...\n",
       "Name: translation, Length: 3000, dtype: object"
      ]
     },
     "execution_count": 8,
     "metadata": {},
     "output_type": "execute_result"
    }
   ],
   "source": [
    "data_val['translation']"
   ]
  },
  {
   "cell_type": "code",
   "execution_count": 9,
   "id": "49ead10f-d1ed-433d-afd8-da16165215e2",
   "metadata": {},
   "outputs": [],
   "source": [
    "x_train, x_test, y_train, y_test = train_test_split(\n",
    "    data_val['source'], data_val['translation'], \n",
    "    test_size=0.05,  # 20% for test set\n",
    "    random_state=42,  # for reproducibility\n",
    "    shuffle=True,\n",
    ")"
   ]
  },
  {
   "cell_type": "code",
   "execution_count": 10,
   "id": "85a15057-32f5-4b89-954e-5d5fce993a51",
   "metadata": {},
   "outputs": [],
   "source": [
    "result = pd.concat([data_train, pd.DataFrame({\"source\": x_train, \"translation\": y_train})], axis=0)\n",
    "# result = pd.concat([data_train, data_val, axis=0)\n"
   ]
  },
  {
   "cell_type": "code",
   "execution_count": 11,
   "id": "f16a7255-6bc8-4019-84a4-eee35c956915",
   "metadata": {},
   "outputs": [],
   "source": [
    "datasets = DatasetDict({\n",
    "    'train': Dataset.from_dict({'source': result['source'], 'translation': result['translation']}),\n",
    "    'validation': Dataset.from_dict({'source': x_test, 'translation': y_test}),\n",
    "})"
   ]
  },
  {
   "cell_type": "code",
   "execution_count": 12,
   "id": "1f865734-9b3b-4e2d-b45f-876c45875b4c",
   "metadata": {},
   "outputs": [
    {
     "data": {
      "text/plain": [
       "DatasetDict({\n",
       "    train: Dataset({\n",
       "        features: ['source', 'translation'],\n",
       "        num_rows: 21450\n",
       "    })\n",
       "    validation: Dataset({\n",
       "        features: ['source', 'translation'],\n",
       "        num_rows: 150\n",
       "    })\n",
       "})"
      ]
     },
     "execution_count": 12,
     "metadata": {},
     "output_type": "execute_result"
    }
   ],
   "source": [
    "datasets"
   ]
  },
  {
   "cell_type": "code",
   "execution_count": 13,
   "id": "867ccef5-35be-40d8-a3d3-e46e2fb779fa",
   "metadata": {},
   "outputs": [],
   "source": [
    "tokenizer.src_lang = config.SRC_LANG\n",
    "tokenizer.tgt_lang = config.TGT_LANG"
   ]
  },
  {
   "cell_type": "code",
   "execution_count": 14,
   "id": "099ce9fc-867f-4a78-af69-11e718a11192",
   "metadata": {},
   "outputs": [
    {
     "data": {
      "application/vnd.jupyter.widget-view+json": {
       "model_id": "50bc564151bb4d748987070a97c3077a",
       "version_major": 2,
       "version_minor": 0
      },
      "text/plain": [
       "Map:   0%|          | 0/21450 [00:00<?, ? examples/s]"
      ]
     },
     "metadata": {},
     "output_type": "display_data"
    },
    {
     "data": {
      "application/vnd.jupyter.widget-view+json": {
       "model_id": "e906b3bd2a724dd3b9bc8a640e3c359a",
       "version_major": 2,
       "version_minor": 0
      },
      "text/plain": [
       "Map:   0%|          | 0/150 [00:00<?, ? examples/s]"
      ]
     },
     "metadata": {},
     "output_type": "display_data"
    }
   ],
   "source": [
    "# Tokenize with context (Option 2 - Batched)\n",
    "def tokenize_function(examples):\n",
    "    inputs = tokenizer(\n",
    "        examples[\"source\"],\n",
    "        truncation=True,\n",
    "        max_length=1024,\n",
    "        return_tensors=\"pt\",\n",
    "        padding=\"max_length\", \n",
    "    )\n",
    "    labels = tokenizer(\n",
    "        examples[\"translation\"],\n",
    "        truncation=True,\n",
    "        max_length=1024,\n",
    "        return_tensors=\"pt\",\n",
    "        padding=\"max_length\"\n",
    "    )\n",
    "    inputs[\"labels\"] = labels[\"input_ids\"]\n",
    "    return inputs\n",
    "\n",
    "# Apply to dataset\n",
    "tokenized_datasets = datasets.map(\n",
    "    tokenize_function,\n",
    "    batched=True,\n",
    "    remove_columns=datasets[\"train\"].column_names,\n",
    ")"
   ]
  },
  {
   "cell_type": "code",
   "execution_count": 15,
   "id": "7154ca6a-a582-40fe-8aca-0be2c23f81a8",
   "metadata": {},
   "outputs": [
    {
     "data": {
      "text/plain": [
       "DatasetDict({\n",
       "    train: Dataset({\n",
       "        features: ['input_ids', 'attention_mask', 'labels'],\n",
       "        num_rows: 21450\n",
       "    })\n",
       "    validation: Dataset({\n",
       "        features: ['input_ids', 'attention_mask', 'labels'],\n",
       "        num_rows: 150\n",
       "    })\n",
       "})"
      ]
     },
     "execution_count": 15,
     "metadata": {},
     "output_type": "execute_result"
    }
   ],
   "source": [
    "tokenized_datasets"
   ]
  },
  {
   "cell_type": "code",
   "execution_count": 16,
   "id": "a2faaf00-1b7e-4b13-bfb7-2a97b6099018",
   "metadata": {},
   "outputs": [],
   "source": [
    "data_collator = DataCollatorForSeq2Seq(\n",
    "    tokenizer=tokenizer,\n",
    "    model=model,\n",
    "    padding=True\n",
    ")"
   ]
  },
  {
   "cell_type": "code",
   "execution_count": 17,
   "id": "5bdb08a2-226e-4bd9-9d19-5471c09538fc",
   "metadata": {},
   "outputs": [],
   "source": [
    "training_args = TrainingArguments(\n",
    "    output_dir=config.OUTPUT_DIR,\n",
    "    num_train_epochs=config.NUM_EPOCHS,\n",
    "    per_device_train_batch_size=config.BATCH_SIZE,\n",
    "    per_device_eval_batch_size=config.BATCH_SIZE,\n",
    "    gradient_accumulation_steps=8,\n",
    "    warmup_steps=1000,\n",
    "    learning_rate=config.LEARNING_RATE,\n",
    "    weight_decay=0.01,\n",
    "    logging_dir=f\"{config.OUTPUT_DIR}/logs\",\n",
    "    logging_steps=1000,\n",
    "    eval_strategy=\"epoch\",\n",
    "    save_strategy=\"epoch\",\n",
    "    save_total_limit=2,\n",
    "    load_best_model_at_end=True,\n",
    "    metric_for_best_model=\"eval_loss\",\n",
    "    greater_is_better=False,\n",
    "    fp16=torch.cuda.is_available(),\n",
    "    report_to=\"tensorboard\",\n",
    "    remove_unused_columns=False,                             # Saves memory; set False if using custom dataset fields\n",
    "    dataloader_pin_memory=True,                             # Helpful on some systems\n",
    "    gradient_checkpointing=True,\n",
    "    dataloader_num_workers=2,                               # Speeds up data loading; adjust as needed\n",
    "    optim=\"adamw_torch\",\n",
    ")"
   ]
  },
  {
   "cell_type": "code",
   "execution_count": 18,
   "id": "d732a534-2cc4-4942-acbf-b8084a4903af",
   "metadata": {},
   "outputs": [
    {
     "name": "stderr",
     "output_type": "stream",
     "text": [
      "/tmp/ipykernel_8749/2915407132.py:1: FutureWarning: `tokenizer` is deprecated and will be removed in version 5.0.0 for `Trainer.__init__`. Use `processing_class` instead.\n",
      "  trainer = Trainer(\n"
     ]
    }
   ],
   "source": [
    "trainer = Trainer(\n",
    "    model=model,\n",
    "    args=training_args,\n",
    "    train_dataset=tokenized_datasets['train'],\n",
    "    eval_dataset=tokenized_datasets['validation'],\n",
    "    tokenizer=tokenizer,\n",
    "    data_collator=data_collator,\n",
    "    callbacks=[EarlyStoppingCallback(early_stopping_patience=2)]\n",
    ")"
   ]
  },
  {
   "cell_type": "code",
   "execution_count": 19,
   "id": "2348e698-1501-44b6-b797-f1960cadccc5",
   "metadata": {},
   "outputs": [
    {
     "name": "stdout",
     "output_type": "stream",
     "text": [
      "Trainable parameters: 1,370,638,336\n",
      "Total parameters:     1,370,638,336\n",
      "Trainable %:          100.00%\n"
     ]
    }
   ],
   "source": [
    "def print_trainable_parameters(model):\n",
    "    trainable = 0\n",
    "    total = 0\n",
    "    for param in model.parameters():\n",
    "        total += param.numel()\n",
    "        if param.requires_grad:\n",
    "            trainable += param.numel()\n",
    "    print(f\"Trainable parameters: {trainable:,}\")\n",
    "    print(f\"Total parameters:     {total:,}\")\n",
    "    print(f\"Trainable %:          {100 * trainable / total:.2f}%\")\n",
    "\n",
    "print_trainable_parameters(model)"
   ]
  },
  {
   "cell_type": "code",
   "execution_count": 20,
   "id": "9503aa95-2891-45bf-987e-18a79f87ce38",
   "metadata": {},
   "outputs": [
    {
     "name": "stderr",
     "output_type": "stream",
     "text": [
      "huggingface/tokenizers: The current process just got forked, after parallelism has already been used. Disabling parallelism to avoid deadlocks...\n",
      "To disable this warning, you can either:\n",
      "\t- Avoid using `tokenizers` before the fork if possible\n",
      "\t- Explicitly set the environment variable TOKENIZERS_PARALLELISM=(true | false)\n",
      "huggingface/tokenizers: The current process just got forked, after parallelism has already been used. Disabling parallelism to avoid deadlocks...\n",
      "To disable this warning, you can either:\n",
      "\t- Avoid using `tokenizers` before the fork if possible\n",
      "\t- Explicitly set the environment variable TOKENIZERS_PARALLELISM=(true | false)\n",
      "`use_cache=True` is incompatible with gradient checkpointing. Setting `use_cache=False`...\n"
     ]
    },
    {
     "data": {
      "text/html": [
       "\n",
       "    <div>\n",
       "      \n",
       "      <progress value='817' max='53640' style='width:300px; height:20px; vertical-align: middle;'></progress>\n",
       "      [  817/53640 33:10 < 35:49:53, 0.41 it/s, Epoch 0.61/40]\n",
       "    </div>\n",
       "    <table border=\"1\" class=\"dataframe\">\n",
       "  <thead>\n",
       " <tr style=\"text-align: left;\">\n",
       "      <th>Epoch</th>\n",
       "      <th>Training Loss</th>\n",
       "      <th>Validation Loss</th>\n",
       "    </tr>\n",
       "  </thead>\n",
       "  <tbody>\n",
       "  </tbody>\n",
       "</table><p>"
      ],
      "text/plain": [
       "<IPython.core.display.HTML object>"
      ]
     },
     "metadata": {},
     "output_type": "display_data"
    },
    {
     "ename": "KeyboardInterrupt",
     "evalue": "",
     "output_type": "error",
     "traceback": [
      "\u001b[0;31m---------------------------------------------------------------------------\u001b[0m",
      "\u001b[0;31mKeyboardInterrupt\u001b[0m                         Traceback (most recent call last)",
      "Cell \u001b[0;32mIn[20], line 1\u001b[0m\n\u001b[0;32m----> 1\u001b[0m \u001b[43mtrainer\u001b[49m\u001b[38;5;241;43m.\u001b[39;49m\u001b[43mtrain\u001b[49m\u001b[43m(\u001b[49m\u001b[43m)\u001b[49m\n",
      "File \u001b[0;32m~/.local/lib/python3.10/site-packages/transformers/trainer.py:2240\u001b[0m, in \u001b[0;36mTrainer.train\u001b[0;34m(self, resume_from_checkpoint, trial, ignore_keys_for_eval, **kwargs)\u001b[0m\n\u001b[1;32m   2238\u001b[0m         hf_hub_utils\u001b[38;5;241m.\u001b[39menable_progress_bars()\n\u001b[1;32m   2239\u001b[0m \u001b[38;5;28;01melse\u001b[39;00m:\n\u001b[0;32m-> 2240\u001b[0m     \u001b[38;5;28;01mreturn\u001b[39;00m \u001b[43minner_training_loop\u001b[49m\u001b[43m(\u001b[49m\n\u001b[1;32m   2241\u001b[0m \u001b[43m        \u001b[49m\u001b[43margs\u001b[49m\u001b[38;5;241;43m=\u001b[39;49m\u001b[43margs\u001b[49m\u001b[43m,\u001b[49m\n\u001b[1;32m   2242\u001b[0m \u001b[43m        \u001b[49m\u001b[43mresume_from_checkpoint\u001b[49m\u001b[38;5;241;43m=\u001b[39;49m\u001b[43mresume_from_checkpoint\u001b[49m\u001b[43m,\u001b[49m\n\u001b[1;32m   2243\u001b[0m \u001b[43m        \u001b[49m\u001b[43mtrial\u001b[49m\u001b[38;5;241;43m=\u001b[39;49m\u001b[43mtrial\u001b[49m\u001b[43m,\u001b[49m\n\u001b[1;32m   2244\u001b[0m \u001b[43m        \u001b[49m\u001b[43mignore_keys_for_eval\u001b[49m\u001b[38;5;241;43m=\u001b[39;49m\u001b[43mignore_keys_for_eval\u001b[49m\u001b[43m,\u001b[49m\n\u001b[1;32m   2245\u001b[0m \u001b[43m    \u001b[49m\u001b[43m)\u001b[49m\n",
      "File \u001b[0;32m~/.local/lib/python3.10/site-packages/transformers/trainer.py:2555\u001b[0m, in \u001b[0;36mTrainer._inner_training_loop\u001b[0;34m(self, batch_size, args, resume_from_checkpoint, trial, ignore_keys_for_eval)\u001b[0m\n\u001b[1;32m   2548\u001b[0m context \u001b[38;5;241m=\u001b[39m (\n\u001b[1;32m   2549\u001b[0m     functools\u001b[38;5;241m.\u001b[39mpartial(\u001b[38;5;28mself\u001b[39m\u001b[38;5;241m.\u001b[39maccelerator\u001b[38;5;241m.\u001b[39mno_sync, model\u001b[38;5;241m=\u001b[39mmodel)\n\u001b[1;32m   2550\u001b[0m     \u001b[38;5;28;01mif\u001b[39;00m i \u001b[38;5;241m!=\u001b[39m \u001b[38;5;28mlen\u001b[39m(batch_samples) \u001b[38;5;241m-\u001b[39m \u001b[38;5;241m1\u001b[39m\n\u001b[1;32m   2551\u001b[0m     \u001b[38;5;129;01mand\u001b[39;00m \u001b[38;5;28mself\u001b[39m\u001b[38;5;241m.\u001b[39maccelerator\u001b[38;5;241m.\u001b[39mdistributed_type \u001b[38;5;241m!=\u001b[39m DistributedType\u001b[38;5;241m.\u001b[39mDEEPSPEED\n\u001b[1;32m   2552\u001b[0m     \u001b[38;5;28;01melse\u001b[39;00m contextlib\u001b[38;5;241m.\u001b[39mnullcontext\n\u001b[1;32m   2553\u001b[0m )\n\u001b[1;32m   2554\u001b[0m \u001b[38;5;28;01mwith\u001b[39;00m context():\n\u001b[0;32m-> 2555\u001b[0m     tr_loss_step \u001b[38;5;241m=\u001b[39m \u001b[38;5;28;43mself\u001b[39;49m\u001b[38;5;241;43m.\u001b[39;49m\u001b[43mtraining_step\u001b[49m\u001b[43m(\u001b[49m\u001b[43mmodel\u001b[49m\u001b[43m,\u001b[49m\u001b[43m \u001b[49m\u001b[43minputs\u001b[49m\u001b[43m,\u001b[49m\u001b[43m \u001b[49m\u001b[43mnum_items_in_batch\u001b[49m\u001b[43m)\u001b[49m\n\u001b[1;32m   2557\u001b[0m \u001b[38;5;28;01mif\u001b[39;00m (\n\u001b[1;32m   2558\u001b[0m     args\u001b[38;5;241m.\u001b[39mlogging_nan_inf_filter\n\u001b[1;32m   2559\u001b[0m     \u001b[38;5;129;01mand\u001b[39;00m \u001b[38;5;129;01mnot\u001b[39;00m is_torch_xla_available()\n\u001b[1;32m   2560\u001b[0m     \u001b[38;5;129;01mand\u001b[39;00m (torch\u001b[38;5;241m.\u001b[39misnan(tr_loss_step) \u001b[38;5;129;01mor\u001b[39;00m torch\u001b[38;5;241m.\u001b[39misinf(tr_loss_step))\n\u001b[1;32m   2561\u001b[0m ):\n\u001b[1;32m   2562\u001b[0m     \u001b[38;5;66;03m# if loss is nan or inf simply add the average of previous logged losses\u001b[39;00m\n\u001b[1;32m   2563\u001b[0m     tr_loss \u001b[38;5;241m=\u001b[39m tr_loss \u001b[38;5;241m+\u001b[39m tr_loss \u001b[38;5;241m/\u001b[39m (\u001b[38;5;241m1\u001b[39m \u001b[38;5;241m+\u001b[39m \u001b[38;5;28mself\u001b[39m\u001b[38;5;241m.\u001b[39mstate\u001b[38;5;241m.\u001b[39mglobal_step \u001b[38;5;241m-\u001b[39m \u001b[38;5;28mself\u001b[39m\u001b[38;5;241m.\u001b[39m_globalstep_last_logged)\n",
      "File \u001b[0;32m~/.local/lib/python3.10/site-packages/transformers/trainer.py:3791\u001b[0m, in \u001b[0;36mTrainer.training_step\u001b[0;34m(***failed resolving arguments***)\u001b[0m\n\u001b[1;32m   3788\u001b[0m \u001b[38;5;28;01mif\u001b[39;00m \u001b[38;5;28mself\u001b[39m\u001b[38;5;241m.\u001b[39maccelerator\u001b[38;5;241m.\u001b[39mdistributed_type \u001b[38;5;241m==\u001b[39m DistributedType\u001b[38;5;241m.\u001b[39mDEEPSPEED:\n\u001b[1;32m   3789\u001b[0m     kwargs[\u001b[38;5;124m\"\u001b[39m\u001b[38;5;124mscale_wrt_gas\u001b[39m\u001b[38;5;124m\"\u001b[39m] \u001b[38;5;241m=\u001b[39m \u001b[38;5;28;01mFalse\u001b[39;00m\n\u001b[0;32m-> 3791\u001b[0m \u001b[38;5;28;43mself\u001b[39;49m\u001b[38;5;241;43m.\u001b[39;49m\u001b[43maccelerator\u001b[49m\u001b[38;5;241;43m.\u001b[39;49m\u001b[43mbackward\u001b[49m\u001b[43m(\u001b[49m\u001b[43mloss\u001b[49m\u001b[43m,\u001b[49m\u001b[43m \u001b[49m\u001b[38;5;241;43m*\u001b[39;49m\u001b[38;5;241;43m*\u001b[39;49m\u001b[43mkwargs\u001b[49m\u001b[43m)\u001b[49m\n\u001b[1;32m   3793\u001b[0m \u001b[38;5;28;01mreturn\u001b[39;00m loss\u001b[38;5;241m.\u001b[39mdetach()\n",
      "File \u001b[0;32m~/.local/lib/python3.10/site-packages/accelerate/accelerator.py:2469\u001b[0m, in \u001b[0;36mAccelerator.backward\u001b[0;34m(self, loss, **kwargs)\u001b[0m\n\u001b[1;32m   2467\u001b[0m     \u001b[38;5;28;01mreturn\u001b[39;00m\n\u001b[1;32m   2468\u001b[0m \u001b[38;5;28;01melif\u001b[39;00m \u001b[38;5;28mself\u001b[39m\u001b[38;5;241m.\u001b[39mscaler \u001b[38;5;129;01mis\u001b[39;00m \u001b[38;5;129;01mnot\u001b[39;00m \u001b[38;5;28;01mNone\u001b[39;00m:\n\u001b[0;32m-> 2469\u001b[0m     \u001b[38;5;28;43mself\u001b[39;49m\u001b[38;5;241;43m.\u001b[39;49m\u001b[43mscaler\u001b[49m\u001b[38;5;241;43m.\u001b[39;49m\u001b[43mscale\u001b[49m\u001b[43m(\u001b[49m\u001b[43mloss\u001b[49m\u001b[43m)\u001b[49m\u001b[38;5;241;43m.\u001b[39;49m\u001b[43mbackward\u001b[49m\u001b[43m(\u001b[49m\u001b[38;5;241;43m*\u001b[39;49m\u001b[38;5;241;43m*\u001b[39;49m\u001b[43mkwargs\u001b[49m\u001b[43m)\u001b[49m\n\u001b[1;32m   2470\u001b[0m \u001b[38;5;28;01melif\u001b[39;00m learning_rate \u001b[38;5;129;01mis\u001b[39;00m \u001b[38;5;129;01mnot\u001b[39;00m \u001b[38;5;28;01mNone\u001b[39;00m \u001b[38;5;129;01mand\u001b[39;00m \u001b[38;5;28mself\u001b[39m\u001b[38;5;241m.\u001b[39mhas_lomo_optimizer:\n\u001b[1;32m   2471\u001b[0m     \u001b[38;5;28mself\u001b[39m\u001b[38;5;241m.\u001b[39mlomo_backward(loss, learning_rate)\n",
      "File \u001b[0;32m~/.local/lib/python3.10/site-packages/torch/_tensor.py:626\u001b[0m, in \u001b[0;36mTensor.backward\u001b[0;34m(self, gradient, retain_graph, create_graph, inputs)\u001b[0m\n\u001b[1;32m    616\u001b[0m \u001b[38;5;28;01mif\u001b[39;00m has_torch_function_unary(\u001b[38;5;28mself\u001b[39m):\n\u001b[1;32m    617\u001b[0m     \u001b[38;5;28;01mreturn\u001b[39;00m handle_torch_function(\n\u001b[1;32m    618\u001b[0m         Tensor\u001b[38;5;241m.\u001b[39mbackward,\n\u001b[1;32m    619\u001b[0m         (\u001b[38;5;28mself\u001b[39m,),\n\u001b[0;32m   (...)\u001b[0m\n\u001b[1;32m    624\u001b[0m         inputs\u001b[38;5;241m=\u001b[39minputs,\n\u001b[1;32m    625\u001b[0m     )\n\u001b[0;32m--> 626\u001b[0m \u001b[43mtorch\u001b[49m\u001b[38;5;241;43m.\u001b[39;49m\u001b[43mautograd\u001b[49m\u001b[38;5;241;43m.\u001b[39;49m\u001b[43mbackward\u001b[49m\u001b[43m(\u001b[49m\n\u001b[1;32m    627\u001b[0m \u001b[43m    \u001b[49m\u001b[38;5;28;43mself\u001b[39;49m\u001b[43m,\u001b[49m\u001b[43m \u001b[49m\u001b[43mgradient\u001b[49m\u001b[43m,\u001b[49m\u001b[43m \u001b[49m\u001b[43mretain_graph\u001b[49m\u001b[43m,\u001b[49m\u001b[43m \u001b[49m\u001b[43mcreate_graph\u001b[49m\u001b[43m,\u001b[49m\u001b[43m \u001b[49m\u001b[43minputs\u001b[49m\u001b[38;5;241;43m=\u001b[39;49m\u001b[43minputs\u001b[49m\n\u001b[1;32m    628\u001b[0m \u001b[43m\u001b[49m\u001b[43m)\u001b[49m\n",
      "File \u001b[0;32m~/.local/lib/python3.10/site-packages/torch/autograd/__init__.py:347\u001b[0m, in \u001b[0;36mbackward\u001b[0;34m(tensors, grad_tensors, retain_graph, create_graph, grad_variables, inputs)\u001b[0m\n\u001b[1;32m    342\u001b[0m     retain_graph \u001b[38;5;241m=\u001b[39m create_graph\n\u001b[1;32m    344\u001b[0m \u001b[38;5;66;03m# The reason we repeat the same comment below is that\u001b[39;00m\n\u001b[1;32m    345\u001b[0m \u001b[38;5;66;03m# some Python versions print out the first line of a multi-line function\u001b[39;00m\n\u001b[1;32m    346\u001b[0m \u001b[38;5;66;03m# calls in the traceback and some print out the last line\u001b[39;00m\n\u001b[0;32m--> 347\u001b[0m \u001b[43m_engine_run_backward\u001b[49m\u001b[43m(\u001b[49m\n\u001b[1;32m    348\u001b[0m \u001b[43m    \u001b[49m\u001b[43mtensors\u001b[49m\u001b[43m,\u001b[49m\n\u001b[1;32m    349\u001b[0m \u001b[43m    \u001b[49m\u001b[43mgrad_tensors_\u001b[49m\u001b[43m,\u001b[49m\n\u001b[1;32m    350\u001b[0m \u001b[43m    \u001b[49m\u001b[43mretain_graph\u001b[49m\u001b[43m,\u001b[49m\n\u001b[1;32m    351\u001b[0m \u001b[43m    \u001b[49m\u001b[43mcreate_graph\u001b[49m\u001b[43m,\u001b[49m\n\u001b[1;32m    352\u001b[0m \u001b[43m    \u001b[49m\u001b[43minputs\u001b[49m\u001b[43m,\u001b[49m\n\u001b[1;32m    353\u001b[0m \u001b[43m    \u001b[49m\u001b[43mallow_unreachable\u001b[49m\u001b[38;5;241;43m=\u001b[39;49m\u001b[38;5;28;43;01mTrue\u001b[39;49;00m\u001b[43m,\u001b[49m\n\u001b[1;32m    354\u001b[0m \u001b[43m    \u001b[49m\u001b[43maccumulate_grad\u001b[49m\u001b[38;5;241;43m=\u001b[39;49m\u001b[38;5;28;43;01mTrue\u001b[39;49;00m\u001b[43m,\u001b[49m\n\u001b[1;32m    355\u001b[0m \u001b[43m\u001b[49m\u001b[43m)\u001b[49m\n",
      "File \u001b[0;32m~/.local/lib/python3.10/site-packages/torch/autograd/graph.py:823\u001b[0m, in \u001b[0;36m_engine_run_backward\u001b[0;34m(t_outputs, *args, **kwargs)\u001b[0m\n\u001b[1;32m    821\u001b[0m     unregister_hooks \u001b[38;5;241m=\u001b[39m _register_logging_hooks_on_whole_graph(t_outputs)\n\u001b[1;32m    822\u001b[0m \u001b[38;5;28;01mtry\u001b[39;00m:\n\u001b[0;32m--> 823\u001b[0m     \u001b[38;5;28;01mreturn\u001b[39;00m \u001b[43mVariable\u001b[49m\u001b[38;5;241;43m.\u001b[39;49m\u001b[43m_execution_engine\u001b[49m\u001b[38;5;241;43m.\u001b[39;49m\u001b[43mrun_backward\u001b[49m\u001b[43m(\u001b[49m\u001b[43m  \u001b[49m\u001b[38;5;66;43;03m# Calls into the C++ engine to run the backward pass\u001b[39;49;00m\n\u001b[1;32m    824\u001b[0m \u001b[43m        \u001b[49m\u001b[43mt_outputs\u001b[49m\u001b[43m,\u001b[49m\u001b[43m \u001b[49m\u001b[38;5;241;43m*\u001b[39;49m\u001b[43margs\u001b[49m\u001b[43m,\u001b[49m\u001b[43m \u001b[49m\u001b[38;5;241;43m*\u001b[39;49m\u001b[38;5;241;43m*\u001b[39;49m\u001b[43mkwargs\u001b[49m\n\u001b[1;32m    825\u001b[0m \u001b[43m    \u001b[49m\u001b[43m)\u001b[49m  \u001b[38;5;66;03m# Calls into the C++ engine to run the backward pass\u001b[39;00m\n\u001b[1;32m    826\u001b[0m \u001b[38;5;28;01mfinally\u001b[39;00m:\n\u001b[1;32m    827\u001b[0m     \u001b[38;5;28;01mif\u001b[39;00m attach_logging_hooks:\n",
      "\u001b[0;31mKeyboardInterrupt\u001b[0m: "
     ]
    }
   ],
   "source": [
    "trainer.train()"
   ]
  },
  {
   "cell_type": "code",
   "execution_count": 22,
   "id": "f6542faf-9dc7-4b00-804e-42c9da3ea2e3",
   "metadata": {},
   "outputs": [],
   "source": [
    "modelx = trainer.model.to(\"cuda\")"
   ]
  },
  {
   "cell_type": "code",
   "execution_count": 23,
   "id": "6a51947c-8f1b-4747-9d12-4aa00209ec56",
   "metadata": {},
   "outputs": [
    {
     "data": {
      "text/plain": [
       "M2M100ForConditionalGeneration(\n",
       "  (model): M2M100Model(\n",
       "    (shared): M2M100ScaledWordEmbedding(256206, 1024, padding_idx=1)\n",
       "    (encoder): M2M100Encoder(\n",
       "      (embed_tokens): M2M100ScaledWordEmbedding(256206, 1024, padding_idx=1)\n",
       "      (embed_positions): M2M100SinusoidalPositionalEmbedding()\n",
       "      (layers): ModuleList(\n",
       "        (0-23): 24 x M2M100EncoderLayer(\n",
       "          (self_attn): M2M100SdpaAttention(\n",
       "            (k_proj): Linear(in_features=1024, out_features=1024, bias=True)\n",
       "            (v_proj): Linear(in_features=1024, out_features=1024, bias=True)\n",
       "            (q_proj): Linear(in_features=1024, out_features=1024, bias=True)\n",
       "            (out_proj): Linear(in_features=1024, out_features=1024, bias=True)\n",
       "          )\n",
       "          (self_attn_layer_norm): LayerNorm((1024,), eps=1e-05, elementwise_affine=True)\n",
       "          (activation_fn): ReLU()\n",
       "          (fc1): Linear(in_features=1024, out_features=8192, bias=True)\n",
       "          (fc2): Linear(in_features=8192, out_features=1024, bias=True)\n",
       "          (final_layer_norm): LayerNorm((1024,), eps=1e-05, elementwise_affine=True)\n",
       "        )\n",
       "      )\n",
       "      (layer_norm): LayerNorm((1024,), eps=1e-05, elementwise_affine=True)\n",
       "    )\n",
       "    (decoder): M2M100Decoder(\n",
       "      (embed_tokens): M2M100ScaledWordEmbedding(256206, 1024, padding_idx=1)\n",
       "      (embed_positions): M2M100SinusoidalPositionalEmbedding()\n",
       "      (layers): ModuleList(\n",
       "        (0-23): 24 x M2M100DecoderLayer(\n",
       "          (self_attn): M2M100SdpaAttention(\n",
       "            (k_proj): Linear(in_features=1024, out_features=1024, bias=True)\n",
       "            (v_proj): Linear(in_features=1024, out_features=1024, bias=True)\n",
       "            (q_proj): Linear(in_features=1024, out_features=1024, bias=True)\n",
       "            (out_proj): Linear(in_features=1024, out_features=1024, bias=True)\n",
       "          )\n",
       "          (activation_fn): ReLU()\n",
       "          (self_attn_layer_norm): LayerNorm((1024,), eps=1e-05, elementwise_affine=True)\n",
       "          (encoder_attn): M2M100SdpaAttention(\n",
       "            (k_proj): Linear(in_features=1024, out_features=1024, bias=True)\n",
       "            (v_proj): Linear(in_features=1024, out_features=1024, bias=True)\n",
       "            (q_proj): Linear(in_features=1024, out_features=1024, bias=True)\n",
       "            (out_proj): Linear(in_features=1024, out_features=1024, bias=True)\n",
       "          )\n",
       "          (encoder_attn_layer_norm): LayerNorm((1024,), eps=1e-05, elementwise_affine=True)\n",
       "          (fc1): Linear(in_features=1024, out_features=8192, bias=True)\n",
       "          (fc2): Linear(in_features=8192, out_features=1024, bias=True)\n",
       "          (final_layer_norm): LayerNorm((1024,), eps=1e-05, elementwise_affine=True)\n",
       "        )\n",
       "      )\n",
       "      (layer_norm): LayerNorm((1024,), eps=1e-05, elementwise_affine=True)\n",
       "    )\n",
       "  )\n",
       "  (lm_head): Linear(in_features=1024, out_features=256206, bias=False)\n",
       ")"
      ]
     },
     "execution_count": 23,
     "metadata": {},
     "output_type": "execute_result"
    }
   ],
   "source": [
    "modelx"
   ]
  },
  {
   "cell_type": "code",
   "execution_count": 37,
   "id": "abad4893-016d-4312-be05-011b61d9824a",
   "metadata": {},
   "outputs": [
    {
     "ename": "TypeError",
     "evalue": "cannot pickle 'weakref.ReferenceType' object",
     "output_type": "error",
     "traceback": [
      "\u001b[0;31m---------------------------------------------------------------------------\u001b[0m",
      "\u001b[0;31mTypeError\u001b[0m                                 Traceback (most recent call last)",
      "Cell \u001b[0;32mIn[37], line 1\u001b[0m\n\u001b[0;32m----> 1\u001b[0m \u001b[43mtorch\u001b[49m\u001b[38;5;241;43m.\u001b[39;49m\u001b[43msave\u001b[49m\u001b[43m(\u001b[49m\u001b[43mtrainer\u001b[49m\u001b[43m,\u001b[49m\u001b[43m \u001b[49m\u001b[38;5;124;43m\"\u001b[39;49m\u001b[38;5;124;43mtrain_nllb-200-1.3B-maxlength=1024.pt\u001b[39;49m\u001b[38;5;124;43m\"\u001b[39;49m\u001b[43m)\u001b[49m\n",
      "File \u001b[0;32m~/.local/lib/python3.10/site-packages/torch/serialization.py:944\u001b[0m, in \u001b[0;36msave\u001b[0;34m(obj, f, pickle_module, pickle_protocol, _use_new_zipfile_serialization, _disable_byteorder_record)\u001b[0m\n\u001b[1;32m    942\u001b[0m \u001b[38;5;28;01mif\u001b[39;00m _use_new_zipfile_serialization:\n\u001b[1;32m    943\u001b[0m     \u001b[38;5;28;01mwith\u001b[39;00m _open_zipfile_writer(f) \u001b[38;5;28;01mas\u001b[39;00m opened_zipfile:\n\u001b[0;32m--> 944\u001b[0m         \u001b[43m_save\u001b[49m\u001b[43m(\u001b[49m\n\u001b[1;32m    945\u001b[0m \u001b[43m            \u001b[49m\u001b[43mobj\u001b[49m\u001b[43m,\u001b[49m\n\u001b[1;32m    946\u001b[0m \u001b[43m            \u001b[49m\u001b[43mopened_zipfile\u001b[49m\u001b[43m,\u001b[49m\n\u001b[1;32m    947\u001b[0m \u001b[43m            \u001b[49m\u001b[43mpickle_module\u001b[49m\u001b[43m,\u001b[49m\n\u001b[1;32m    948\u001b[0m \u001b[43m            \u001b[49m\u001b[43mpickle_protocol\u001b[49m\u001b[43m,\u001b[49m\n\u001b[1;32m    949\u001b[0m \u001b[43m            \u001b[49m\u001b[43m_disable_byteorder_record\u001b[49m\u001b[43m,\u001b[49m\n\u001b[1;32m    950\u001b[0m \u001b[43m        \u001b[49m\u001b[43m)\u001b[49m\n\u001b[1;32m    951\u001b[0m         \u001b[38;5;28;01mreturn\u001b[39;00m\n\u001b[1;32m    952\u001b[0m \u001b[38;5;28;01melse\u001b[39;00m:\n",
      "File \u001b[0;32m~/.local/lib/python3.10/site-packages/torch/serialization.py:1190\u001b[0m, in \u001b[0;36m_save\u001b[0;34m(obj, zip_file, pickle_module, pickle_protocol, _disable_byteorder_record)\u001b[0m\n\u001b[1;32m   1187\u001b[0m         \u001b[38;5;28;01mreturn\u001b[39;00m persistent_id(obj)\n\u001b[1;32m   1189\u001b[0m pickler \u001b[38;5;241m=\u001b[39m PyTorchPickler(data_buf, protocol\u001b[38;5;241m=\u001b[39mpickle_protocol)\n\u001b[0;32m-> 1190\u001b[0m \u001b[43mpickler\u001b[49m\u001b[38;5;241;43m.\u001b[39;49m\u001b[43mdump\u001b[49m\u001b[43m(\u001b[49m\u001b[43mobj\u001b[49m\u001b[43m)\u001b[49m\n\u001b[1;32m   1191\u001b[0m data_value \u001b[38;5;241m=\u001b[39m data_buf\u001b[38;5;241m.\u001b[39mgetvalue()\n\u001b[1;32m   1192\u001b[0m zip_file\u001b[38;5;241m.\u001b[39mwrite_record(\u001b[38;5;124m\"\u001b[39m\u001b[38;5;124mdata.pkl\u001b[39m\u001b[38;5;124m\"\u001b[39m, data_value, \u001b[38;5;28mlen\u001b[39m(data_value))\n",
      "\u001b[0;31mTypeError\u001b[0m: cannot pickle 'weakref.ReferenceType' object"
     ]
    }
   ],
   "source": [
    "torch.save(trainer, \"train_nllb-200-1.3B-maxlength=1024.pt\")"
   ]
  },
  {
   "cell_type": "code",
   "execution_count": 24,
   "id": "20fabf49-82fc-4820-b032-0f57ec303523",
   "metadata": {},
   "outputs": [],
   "source": [
    "import json\n",
    "def translate_text(chinese_text):\n",
    "    # Tokenize input\n",
    "    inputs = tokenizer(\n",
    "        chinese_text, \n",
    "        truncation=True, \n",
    "        max_length=config.MAX_LENGTH,\n",
    "        padding=\"max_length\",\n",
    "        return_tensors=\"pt\"              # Ensure PyTorch tensors\n",
    "    ).to(\"cuda\")\n",
    "    \n",
    "    # Move to GPU if available\n",
    "    if torch.cuda.is_available():\n",
    "        inputs = {k: v.cuda() for k, v in inputs.items()}\n",
    "        modelx.cuda()\n",
    "        \n",
    "    # Generate translation\n",
    "    with torch.no_grad():\n",
    "        generated_tokens = modelx.generate(\n",
    "            **inputs,\n",
    "            forced_bos_token_id=256175,\n",
    "            num_beams=10,  # ← This parameter\n",
    "            early_stopping=True\n",
    "        )\n",
    "    \n",
    "    # Decode the translation\n",
    "    translation = tokenizer.batch_decode(generated_tokens, skip_special_tokens=True)[0]\n",
    "    return translation"
   ]
  },
  {
   "cell_type": "code",
   "execution_count": 25,
   "id": "ad931ca0-6290-4d20-a87c-cc0e8c226635",
   "metadata": {},
   "outputs": [
    {
     "data": {
      "text/plain": [
       "'อาการบาดเจ็บที่สมองทําให้มองเห็นไม่ชัดและไม่สะอาด (ชาย อายุ 40 ปี)'"
      ]
     },
     "execution_count": 25,
     "metadata": {},
     "output_type": "execute_result"
    }
   ],
   "source": [
    "translate_text(x_test[0])"
   ]
  },
  {
   "cell_type": "code",
   "execution_count": 26,
   "id": "abcaabd6-f571-42c6-890f-90b6b4a9ede8",
   "metadata": {},
   "outputs": [
    {
     "name": "stderr",
     "output_type": "stream",
     "text": [
      "100%|██████████| 300/300 [04:48<00:00,  1.04it/s]\n"
     ]
    },
    {
     "data": {
      "text/plain": [
       "['บางครั้งในตอนเช้าจะมีอาการน้ํามูกเหลืองน้อย แต่เวลาอื่นไม่มีอาการเหลือง',\n",
       " 'ถ้าอย่างนั้นก็เป็นโรคเบาหวานจริงๆ และอาจเป็นมาก่อนตั้งครรภ์',\n",
       " 'การตรวจปัสสาวะครั้งก่อนของฉัน พบโปรตีนในปัสสาวะ 1 บาทเพิ่มขึ้น และต่อเนื่องไปครึ่งเดือน',\n",
       " 'งั้นก็ไม่ใช่ปัญหาใหญ่ขนาดนั้นใช่ไหม?',\n",
       " 'ไม่ได้มีประสิทธิภาพเป็นพิเศษ ทําการติดตามและตรวจซ้ํา',\n",
       " 'แล้วตอนนี้จะรักษาแบบไหนที่เหมาะสม และจะอยู่ได้นานแค่ไหน?',\n",
       " 'อาการของคุณน่าจะเป็นความผิดปกติของระบบประสาท',\n",
       " 'คุณหมอคะ ฉันคลอดเอง ตอนคลอดลูกรู้สึกว่าอยากกลับมาเป็นซ้ํา แต่ไม่มีอาการเลย ไม่ส่งผลกระทบต่อลูกใช่ไหม',\n",
       " 'ด้วยความยินดี หากมีประโยชน์กับคุณ โปรดให้คะแนนดีๆ ขอบคุณ!',\n",
       " 'จากคําอธิบายของอัลตราซาวด์ น่าจะเป็นไขมันตับ',\n",
       " 'นอกจากนี้ อาการหูหนวกกะทันหันค่อนข้างยากในการรักษา อย่ากดเข็มเข็มไปบนเขา สามารถทานยานี้ได้ และต้องได้รับการรักษาด้วยการให้น้ําเกลือ',\n",
       " 'การได้ยินของฉันไม่ชัดเจน ไม่ใช่ว่าฉันได้ยินไม่ชัด',\n",
       " 'ผมร่วงจากต่อมไขมันชนิดต่าง ๆ หมายถึงอะไร ใช้ครีมบํารุงศีรษะชนิดใด (เพศหญิง อายุ 20 ปี)',\n",
       " 'ก่อนหน้านี้ หมอบอกว่าปากมดลูกสั้นมากถึงครึ่งเซนติเมตร จากนั้นก็ผ่อนคลาย',\n",
       " 'สําหรับการวินิจฉัยครั้งนี้ แพทย์ได้อัปเดตคําแนะนําโดยสรุป: โรคนี้เป็นโรคทางพันธุกรรม หากตรวจพบตั้งแต่เนิ่นๆ จะรักษาได้ดีกว่า ตอนนี้ต้องรักษาตามอาการเท่านั้น',\n",
       " 'มีอะไรที่ต้องระวังเรื่องการรับประทานอาหารที่สมดุลสามมื้อ หรือเรื่องการใช้ชีวิตหรือไม่?',\n",
       " 'เคยส่องกล้องตรวจกระเพาะอาหารและลําไส้ใหญ่แล้ว โรคกระเพาะอาหารอักเสบมีอาการคันร่วมด้วย และมีติ่งเนื้อในลําไส้',\n",
       " 'เนื่องจากอาหารไม่ย่อยก็ยังเป็นลําไส้อักเสบ แต่วิธีการรักษาทั้งสองอย่างจะแตกต่างกัน',\n",
       " 'เป็นหวัด พูดเสียงคัน คันจมูก มีเลือดออก มีประจําเดือนทําไม (เพศหญิง อายุ 37 ปี)',\n",
       " 'คุณสามารถปรึกษาฉันได้หลังจากการผ่าตัดและได้รับผลการตรวจทางพยาธิวิทยา',\n",
       " 'ถ้าทารกในครรภ์มีกลุ่มเลือดแบบฉันก็จะต้องมีภาวะเม็ดเลือดแดงไหลออกมาเสมอไปใช่ไหม? เหมือนกับกลุ่มเลือดของแม่ ก็จะไม่มีเม็ดเลือดไหลออกมาใช่ไหม? อัตราส่วนคือ 50% ใช่ไหม ไม่เข้าใจ แค่เดาดู',\n",
       " 'อาจเป็นไปได้ว่าสิ่งสําคัญคือเธอรู้สึกว่ากินยาเหล่านั้นแล้วยังเจ็บอยู่',\n",
       " 'อืม ยานั้นถูกต้อง จําไว้ว่าต้องกินให้ครบ 10 ถึง 14 วัน',\n",
       " 'ช่วงนี้คุณมีอาการใจสั่น หายใจสั้น และแน่นหน้าอก จะมีความเสี่ยงในการผ่าตัดหรือไม่?',\n",
       " 'มีผลต่อการทํางานของหลอดเลือด การทํางานของปอด การทํางานของตับ ฯลฯ',\n",
       " 'ฉันวิ่งมาหนึ่งสัปดาห์แล้ว เริ่มมีอาการปวดเข่าด้านในมากเมื่อสองวันก่อน',\n",
       " 'ในกรณีนี้ สามารถตัดความเป็นไปได้ของโรคลมชักออกได้ด้วยคลื่นไฟฟ้าสมองเท่านั้นใช่ไหม?',\n",
       " 'หลังผ่าตัดเนื้องอกไฟโบรแอดิโนมา ควรกินอะไรดีที่สุด ขอบคุณสําหรับคําตอบที่อบอุ่น',\n",
       " 'กระดูกพรุน กระดูกหักง่าย และปวดข้อเท้าระหว่างวิ่ง (ชาย อายุ 16 ปี)',\n",
       " 'ตอนนี้เขาอยู่ในระดับที่รุนแรง จะส่งผลต่อชีวิตในอนาคตของเธอหรือไม่?',\n",
       " 'สามารถยืนยันได้เพียงด้วยอัลตราซาวด์สีว่าทารกในครรภ์หยุดเจริญเติบโตหรือไม่ หรือเป็นการแท้งคุกคามหรือไม่',\n",
       " 'ฉันสามารถให้นมลูกหลังมีไข้ที่เต้านมอักเสบได้ไหม (เพศหญิง อายุ 38 ปี)',\n",
       " 'ไม่มีผลตรวจใช่ไหม? เนื้องอกขนาดเล็กขนาดนี้ มีเพียงเนื้องอกใต้เยื่อบุข้อเท่านั้นที่ทําให้เกิดเลือดตกขาว',\n",
       " 'การช่วยตัวเองครั้งก่อนจะทําให้เกิดต่อมลูกหมากโตหรือไม่?',\n",
       " 'อืม การทายาสีแห้ง คือการเคลื่อนไหวข้อไหล่ทุกวัน ซึ่งถือเป็นอาการปวดที่เกิดจากการบาดเจ็บของเอ็นรอบข้อไหล่',\n",
       " 'ปวดท้องแต่ไม่มีเลือดออก ท้องแล้วใช่ไหม (เพศหญิง อายุ 20 ปี)',\n",
       " 'อายุสองขวบกว่า เขาพูดเอง และยังมีกระบวนการเรียนรู้อีกด้วย',\n",
       " 'นี่คือคําถามสุดท้ายของฉัน ฉันไม่มีคําถามอื่นแล้ว',\n",
       " 'หลังทําแท้ง ห้ามมีเพศสัมพันธ์เป็นเวลา 1 เดือน รักษาความอบอุ่นและหลีกเลี่ยงการโดนความเย็น',\n",
       " 'ใช่ หากมีเลือดออก ควรมีเสมหะ และหลีกเลี่ยงอาหารรสเผ็ด',\n",
       " 'อีกสองสัปดาห์ค่อยไปอัลตราซาวด์เพื่อดูว่าอยู่ในมดลูกหรือนอกมดลูก',\n",
       " 'ตอนนี้ฉันรู้สึกปวดหัวมาก เหมือนจะระเบิด',\n",
       " 'สามารถรับประทานได้จนถึง 8 เดือน และเมื่อ 8 เดือน กินอาหารที่มีลักษณะเป็นชิ้นๆ ก็สามารถสลายเป็นชิ้นๆได้',\n",
       " 'โดยทั่วไปแล้ว นิ่วในท่อไตสามารถเอาออกได้ แต่ไม่สามารถรับประกันได้ 100%',\n",
       " 'คราวนี้รอถึงเดือนสามได้ ถ้าประจําเดือนไม่มา ก็ไปตรวจที่โรงพยาบาลใช่ไหม?',\n",
       " 'แพทย์แผนจีนผู้เชี่ยวชาญด้านภาวะหย่อนสมรรถภาพทางเพศชายและการหลั่งเร็ว ใช้ยาจีนเพื่อรักษาได้ไหม (ชาย อายุ 48 ปี)',\n",
       " 'หากผลนี้ยังไม่ชัดเจนว่าเป็นชนิดที่ 1 หรือชนิดที่ 2 สามารถทําการประเมินพันธุกรรมเพิ่มเติมได้',\n",
       " 'ด้วยความยินดี รบกวนช่วยให้คะแนน 5 ดาวด้วยนะคะ ขอบคุณมากค่ะ',\n",
       " 'เป็นยาคุมกําเนิดเพื่อปรับประจําเดือนและรักษาถุงน้ําหลายใบ',\n",
       " 'เด็กชาย อายุ 8 ปี ตาข้างหนึ่งสายตาสั้น และตาข้างหนึ่งสายไกล (ชาย อายุ 8 ปี)',\n",
       " 'งั้นลูกอายุแปดเดือน ตรวจแร่ธาตุแล้วหรือยัง?',\n",
       " 'ทําไมไม่สบาย? มีอาการบวม ปากขม คลื่นไส้?',\n",
       " 'มีแค่ก้อนหลอดเลือด และตรงกลางสามารถสัมผัสได้ถึงก้อนหนาๆ แบบปกติเป็นอย่างไร?',\n",
       " 'ตอนบ่ายไปโรงพยาบาลมีไข้เล็กน้อยและปวดหัว กินยาแล้วไม่ปวดหัวแล้ว แต่รู้สึกคันทั่วตัว เป็นเพราะอาการไม่พึงประสงค์จากการกินยาหรือไม่?',\n",
       " 'ช่วงนี้ใช้ยา ผ่าตัด หรือน้ําหนักเปลี่ยนอย่างเห็นได้ชัดหรือไม่?',\n",
       " 'อาการหูอื้อเริ่มตั้งแต่หยอดในวันที่ 21 และไม่มีผลหลังจากหยอดไป 2 สัปดาห์',\n",
       " 'โอเค ฉันจะกินยาตามที่หมอบอกก่อน',\n",
       " 'สายตาสั้นมากประมาณ 600 องศา สามารถใส่คอนแทคเลนส์ได้ไหม? (เพศหญิง อายุ 21 ปี)',\n",
       " 'ตอนนี้ฟันผุเจ็บมาก จะทําให้ดีขึ้นได้อย่างไร (ชาย อายุ 19 ปี)',\n",
       " 'อุจจาระดูไม่ค่อยดี เลยไม่กล้าบอกให้กินเยอะ ตอนนี้กินอะไรดี? วันที่ 8 หลังการผ่าตัด',\n",
       " 'แน่นอนว่าจะดีกว่านมผสม 100 องศา 20 นาที',\n",
       " 'จะทําอย่างไรถ้าทารกมีอาการคัดจมูกรุนแรงในช่วงฟื้นตัวจากโรคปอดบวม (เพศหญิง อายุ 3 เดือน)',\n",
       " 'ไปตรวจสารก่อภูมิแพ้ก่อนและหาสาเหตุที่สําคัญที่สุด',\n",
       " 'ตอนนี้อาการดี ไม่มีอะไรผิดปกติ การทํางานเป็นเรื่องปกติ ไม่มีอะไรผิดปกติ และไปตรวจสุขภาพที่โรงพยาบาลเป็นประจํา',\n",
       " 'ติดเชื้อทางเดินปัสสาวะ กินยาอะไรได้ผลเร็วที่สุด? (เพศหญิง อายุ 32 ปี)',\n",
       " 'ช่วงสามหรือสี่เดือนที่ผ่านมา มีทั้งหมดสามครั้ง ตอนตื่นกลางดึกไม่มีอาการแว่นแสง ตอนกลางวันไม่มีอาการใดๆ',\n",
       " 'เป็นโรคข้ออักเสบรูมาตอยด์ ควรทําอย่างไร? - (ชาย อายุ 23 ปี)',\n",
       " 'คออักเสบเรื้อรัง น้ํามูกไหลย้อน นานกว่าหนึ่งเดือนแล้ว (ชาย อายุ 29 ปี)',\n",
       " 'โรคจมูกอักเสบเรื้อรัง ฉันควรทานยาอะไรเพื่อรักษาโรคลมชัก (ชาย อายุ 28 ปี)',\n",
       " 'ฉันควรทําอย่างไรหากระบบทางเดินอาหารทํางานผิดปกติ จะส่งผลต่อการเรียนรู้เล็กน้อย (ชาย อายุ 18 ปี)',\n",
       " 'ฉันไม่ได้กินตลอด ฉันกินตอนที่หยุดยาเป็นเวลาหนึ่งเดือน',\n",
       " 'ฉันเคยตรวจคลื่นไฟฟ้าหัวใจแล้ว ปกติ แต่รู้สึกแน่นหน้าอกเล็กน้อย วันนี้ไปพบแพทย์แผนจีน หมอบอกว่าเลือดไปเลี้ยงไม่เพียงพอ',\n",
       " 'ฉันไปโรงพยาบาลหลายแห่งแล้ว ทานยาจีนแล้วแต่ไม่ได้ผล',\n",
       " 'หรือไปหาแพทย์แผนจีนที่โรงพยาบาลในพื้นที่เพื่อทําการวินิจฉัยและรักษาด้วยยา และปรับสมดุลร่างกาย',\n",
       " 'โรคไตไม่อันตราย การควบคุมอัตราการเต้นของหัวใจเพียงพอที่จะป้องกันการอุดตันของเลือด ไม่มีวิธีที่ดี',\n",
       " 'ฉันท้องเสียและท้องเสียมา 4 เดือนแล้ว ทานยาไปเยอะมาก',\n",
       " 'ร่าเริง มีก้อนใหญ่หมุนไปมา จุดดําเล็กๆ รู้สึกเหมือนน้ําฝน',\n",
       " 'ตอนนี้ถ้าชินแล้ว ก็สามารถเปลี่ยนมาใช้ได้เลย',\n",
       " 'ตอนนี้คุณมีอาการอะไรบ้าง เช่น สายตาเป็นอย่างไรบ้าง?',\n",
       " 'โอเค ไม่ต้องกินยาก่อนก็ได้ใช่ไหม เพราะยามีผลข้างเคียง',\n",
       " 'ยาชนิดใดที่มีประสิทธิภาพในการรักษาโรคตาแห้ง (เพศหญิง อายุ 24 ปี)',\n",
       " 'คุณหมอ ฉันดูเหมือนจะเป็นโรคคออักเสบจากเริม ฉันควรทําอย่างไร (เพศหญิง อายุ 27 ปี)',\n",
       " 'ยังมีน้ํามูกไหล น้ํามูกสีเหลือง และมีน้ําตาเยอะในตอนเช้า',\n",
       " 'สวัสดี ยินดีให้คําปรึกษา นานแค่ไหนแล้ว? เคยได้รับการรักษามาก่อนหรือไม่?',\n",
       " 'ในระยะเริ่มแรก ปริมาณที่เพียงพอ มาตรฐาน ระยะการรักษา มีความหวัง ไปรักษาโดยเร็ว อย่าหยุดรับประทานยาไปเอง ต้องฟังคําแนะนําของแพทย์',\n",
       " 'ปีที่แล้วฉันส่องกล้องตรวจกระเพาะอาหารแล้วไม่มีอะไร พบว่าเป็นโรคกระเพาะอาหารอักเสบชนิดไม่เป็นแคลเซียม',\n",
       " 'โรคไตมีหลายประเภท การรักษาแต่ละประเภทมีความแตกต่าง โดยการส่องกล้องสามารถบอกได้ชัดว่าเป็นโรคประเภทใด และใช้การรักษาแบบไหนที่ดีที่สุด และสามารถประเมินการพยากรณ์โรคได้',\n",
       " 'โอกาสที่จะไม่ติดเชื้อมีมากกว่าโอกาสที่จะติดเชื้อ',\n",
       " 'เป็นไปได้ไหมที่เนื้องอกจะหายช้าเนื่องจากมีจํานวนค่อนข้างมาก อาจารย์? เป็นมาสองวันแล้ว ฉันเห็นว่ากะโหลกศีรษะของฉันพลิกตัวลําบากมาก ฉันต้องการความช่วยเหลือ',\n",
       " 'ตอนแรกๆ ที่ฉันรู้สึกไม่สบายคือหลังของฉันแน่น และการเคลื่อนไหวบางส่วนก็เจ็บมาก เหมือนมีคนกดตรงรูของคุณ',\n",
       " 'สวัสดี! โรคหนองในในผู้หญิงมีอาการอย่างไรบ้าง? (เพศหญิง อายุ 27 ปี)',\n",
       " 'ผู้สูงอายุมักจะมีอาการนี้ แต่คนที่สายตาสั้นมากจะมีอาการนี้เร็วขึ้น สาเหตุมาจากการละลายของแว่นตา',\n",
       " 'ติดเชื้อทางเดินปัสสาวะหายแล้ว จะมีภาวะยูรีเมียในอนาคตหรือไม่? หรือจะใช้เวลาหลายสิบปีในการติดเชื้อทางเดินปัสสาวะจึงจะเกิดภาวะยูรีเมีย',\n",
       " 'ทางที่ดีควรไปพบศัลยแพทย์ทางเดินอาหารเพื่อส่องกล้องตรวจลําไส้ใหญ่ โดยทั่วไปจะไม่มีเลือดออกมากขนาดนี้',\n",
       " 'ฉันเคยตรวจเลือดเมื่อเดือนสิงหาคม และมีค่าหนึ่งที่ไม่ถูกต้อง ฉันลืมแล้วว่าอันไหน แล้วหมอบอกว่าฉันเป็นโรคตับอักเสบบีหรือเปล่า ฉันจึงไปตรวจร่างกายเพื่อตรวจโรคตับอักเสบบีและตับอักเสบ ไม่มีปัญหาอะไร',\n",
       " 'หลังจากแข็งตัวแล้วไม่สามารถเปิดเผยปลายอวัยวะเพศได้ตามธรรมชาติ เนื่องจากหนังหุ้มปลายอวัยวะเพศยาวเกินไป ใช้มือพลิกออกมา แต่ก็ยังไม่สามารถเปิดเผยปลายอวัยวะเพศได้ เนื่องจากเป็นหนังหุ้มปลายอวัยวะเพศทั้งหนังหุ้มปลายที่ยาวเกินไปและหนังหุ้มปลายอวัยวะเพศทั้งคู่ต้องได้รับการผ่าตัด สิ่งสําคัญคือการดูแลหลังการแข็งตัวของอวัยวะเพศ',\n",
       " 'โรคผื่นเฉียบพลันในเด็กสามารถลมและอาบน้ําได้หรือไม่? (ชาย 1)',\n",
       " 'หากควบคุมไม่ดี อาจส่งผลต่อเนื้อเยื่อและอวัยวะบางส่วน ซึ่งส่วนที่พบบ่อยที่สุดคือปอด',\n",
       " 'สวัสดี หากคุณเป็นไตหยางพร่อง คุณสามารถรับประทานยาเสริมไตอุ่นหยางได้',\n",
       " 'โดยปกติจะไม่ส่งผลกระทบต่อการมองเห็นวัตถุใดๆ ตราบใดที่คุณไม่สังเกตมัน ก็จะมองไม่เห็นมัน',\n",
       " 'การผ่าตัดแบบแผลเล็กสามารถทําได้ แต่ผลไม่ได้ดีเท่าการผ่าตัด เพราะสัตว์เลี้ยงก็ยังอยู่',\n",
       " 'ถ้าหวานเกินไปจะกระตุ้นให้ไอ ทําให้ไม่ชัดเจนว่าเกิดจากการอักเสบหรือการระคายเคือง',\n",
       " 'โรคเม็ดเลือดขาวเรื้อรังสามารถทานยาแก้ปวดได้หรือไม่ (เพศหญิง อายุ 41 ปี)',\n",
       " 'บางครั้งเด็กที่ขาดแคลเซียมหรือวิตามินดีอาจเป็นแบบนี้ได้ง่าย',\n",
       " 'การตั้งครรภ์ครั้งแรก หากตัวอ่อนพัฒนาได้ดี แนะนําให้ปล่อยไว้',\n",
       " 'คําถามได้รับคําตอบแล้ว หากมีข้อสงสัยสามารถถามเพิ่มเติมได้! หากไม่มีปัญหาใดๆ คุณสามารถให้การประเมินที่ \"พอใจ\" แก่ฉันได้ หน้าการประเมินจะแตกต่างกันไปขึ้นอยู่กับเวอร์ชันของระบบ โดยทั่วไป ปุ่มการประเมินจะปรากฏขึ้นหลังจากปิดคําถามแล้ว ความพอใจของคุณคือกําลังใจของฉัน',\n",
       " 'อ่านบทความของคุณแล้ว จะทําอย่างไรถ้าเนื้องอกนอนหลับ',\n",
       " 'นอนไม่หลับ นอนหลับยาก ตื่นง่าย (เพศหญิง อายุ 56 ปี)',\n",
       " 'ฉันยังมีอาการปวดท้องหลังรับประทานอาหาร เป็นโรคกระเพาะอาหารอักเสบหรือโรคลมชัก?',\n",
       " 'ภาวะไตพร่อง: อาการวิงเวียนศีรษะและหูอื้อ ปวดหลังและเข่า นอนไม่หลับ ฝันบ่อย ร้อนและเหงื่อออก อาการหงุดหงิด หงุดหงิด หงิดแดง หงิดหลวม ร่างกายผอม อุจจาระเหลืองหรือแห้ง ลิ้นแดงและเส้นเลือดแดงน้อย ผู้ชายมีอาการหย่อนสมรรถภาพทางเพศ อุจจาระตกค้าง และหลั่งเร็ว',\n",
       " 'ทางที่ดีควรไปโรงพยาบาลเพื่อตรวจเพื่อแยกแยะความผิดปกติของอวัยวะ หากไม่มีปัญหา ก็ถือว่าเป็นความผิดปกติทางการทํางาน ก็ถือว่าดี แต่ต้องใช้เวลาในการปรับตัว ต้องมีความอดทน',\n",
       " 'หลังผ่าตัดได้ 1 เดือน ยังมีอาการ 10 องศา',\n",
       " 'สวัสดี ซีสต์รังไข่มีหลายประเภท และมีซีสต์หนึ่งที่สามารถหลั่งฮอร์โมนเพศได้และทําให้ประจําเดือนมาไม่ปกติ ซึ่งเป็นกรณีที่พบได้น้อยมาก',\n",
       " 'โดยทั่วไปจะเปลี่ยนแปลงไปตามอายุ สีอาจเหลวลง',\n",
       " 'เพิ่งเช็ดช่องคลอดแล้ว สีของตกขาวเป็นปกติ เห็นตกขาวแดงจะเปลี่ยนสีหรือไม่?',\n",
       " 'เมื่อคืนฉันไปโรงพยาบาล หมอสั่งยาล้างลําไส้ 2 เม็ด ใช้หมดแล้ว แต่ก็ยังเจ็บอยู่ เตรียมจะไปโรงพยาบาลอีกครั้ง หมอ อาจจะเป็นอาการลําไส้อุดตันหรือเปล่า',\n",
       " 'อาการบาดเจ็บที่สมองทําให้มองเห็นไม่ชัดและไม่สะอาด (ชาย อายุ 40 ปี)',\n",
       " 'อย่างไรก็ตาม แนะนําให้คุณตรวจโพรงจมูกซ้ํา ในกรณีของคุณ แนะนําให้ตรวจโพรงจมูกทุกปี',\n",
       " 'แนะนําให้พักผ่อนมากขึ้นในช่วงสองสามวันที่ผ่านมา และสามารถรับประทานแคลเซียมเม็ดได้',\n",
       " 'โดยทั่วไปแล้ว โรคเริมรักษาให้หายขาดได้ยาก แต่ไม่ส่งผลกระทบต่อคนมากนัก อาการร้อนในคือ โรคเริม กินอาหารรสเผ็ด ดื่มเหล้ามากเกินไป เป็นหวัดแล้วมุมปากก็ร้อน แต่จริงๆ แล้วเป็นโรคเริม จะมีผลกระทบต่อคุณมากแค่ไหน?',\n",
       " 'ถ้าช่องคลอดอักเสบหายแล้ว ปากมดลูกกร่อนก็หายแล้ว',\n",
       " 'กินผักและผลไม้มากขึ้นเพื่อให้ถ่ายได้ง่าย',\n",
       " 'สวัสดี! เป็นมานานแค่ไหนแล้ว?',\n",
       " 'วันนี้อุณหภูมิยังคงอยู่ที่ 37 องศา และมีไข้ต่ําเล็กน้อย',\n",
       " 'ตอนนี้ฉันรู้สึกเวียนหัวไม่ค่อยสบาย ฉันสามารถให้นมลูกได้หรือไม่?',\n",
       " 'สวัสดี โรคปอดบวมโดยทั่วไปแนะนําให้รักษาด้วยการให้น้ําเกลือจะดีกว่า',\n",
       " 'สวัสดี! คุณเป็นแบบนี้มานานแค่ไหนแล้ว? ตอนนี้มีอาการอะไรบ้าง?',\n",
       " 'บางครั้งอาจมีอาการปัสสาวะบ่อย ปัสสาวะเร่งด่วน ปัสสาวะไม่หมด แต่จะดีขึ้นภายในระยะเวลาหนึ่ง',\n",
       " 'สวัสดี! ทารกมีอาการไม่สบายอื่น ๆ อีกหรือไม่?',\n",
       " 'หมอนรองกระดูกทับเส้นประสาทกดทับเส้นประสาทและปวดขา จะทําอย่างไร (ชายอายุ 63 ปี)',\n",
       " 'ข้อห้ามไม่ได้มาก คุณอายุ 40 ปี ดื่มน้ําและอาหารอ่อนๆ มากๆ ไม่มีอาการป่วยอะไรใช่ไหม',\n",
       " 'สามารถฉีดวัคซีนป้องกันโรคลมชักได้หรือไม่เมื่อเป็นผื่น (เพศหญิง อายุ 18 ปี)',\n",
       " 'คนอายุ 97 ปีที่เป็นโรคหลอดเลือดสมองตาย จะมีชีวิตอยู่ได้นานแค่ไหน (ชาย อายุ 97 ปี)',\n",
       " 'หากเป็นกรณีนี้ แนะนําให้ตรวจเพิ่มเติมและใช้ยาแบบตาบอด หากไม่ได้ผลกับการติดเชื้อแบคทีเรีย จะไม่ได้ผลดีนัก',\n",
       " 'ในอนาคต การกลั้นปัสสาวะบ่อยๆ จะทําให้เกิดการติดเชื้อหรือไม่?',\n",
       " 'ระหว่างวันทํางานเครียดไหม? มีความเครียดมากเกินไปหรือไม่?',\n",
       " 'ความดันโลหิตสูงต้องต่ํากว่า 140 และความดันโลหิตต่ํากว่า 90 แต่ไม่ควรต่ํากว่า 60',\n",
       " 'ถ้าเป็นการป้องกัน ก็ทําตามวิธีที่ฉันบอกก็ได้',\n",
       " 'คุณควรเข้าใจเช่นกันว่าเรื่องการมีเพศสัมพันธ์ยิ่งเร่งด่วนยิ่งแย่ลง',\n",
       " 'ฉันเคยปรับฟันมาก่อน แต่รู้สึกว่าไม่ดีขึ้น',\n",
       " 'หากคุณมีคําถามใด ๆ คุณสามารถปรึกษาต่อได้ ขอให้คุณมีความสุขในปีใหม่',\n",
       " 'สาเหตุที่ทําให้ประจําเดือนมาช้า อาจเกิดจากสภาพแวดล้อมทางอารมณ์ การรับประทานอาหาร และสภาพร่างกายหลายอย่าง',\n",
       " 'แนะนําให้ไปตรวจที่แผนกทวารหนักและลําไส้ใหญ่ของโรงพยาบาลเพื่อรับการวินิจฉัย',\n",
       " 'ไม่สําคัญมาก ใช้เวลาเป็นเนื้อจริง ไม่มียาอะไรที่สามารถกําจัดมันได้',\n",
       " 'หลังการผ่าตัด ให้ใส่ใจเสริมแคลเซียมและเสริมการรักษาโรคกระดูกพรุน',\n",
       " 'สวัสดี ทารกครบกําหนดหรือคลอดก่อนกําหนด?',\n",
       " 'คุณยังเด็กถึงจะเป็นโรคหลอดเลือดสมอง สาเหตุเป็นพิเศษ',\n",
       " 'ทางที่ดีควรให้คุณดูลิ้นของฉันและฉันจะช่วยคุณวินิจฉัยได้ หรือคุณสามารถใช้ยาจีนสมุนไพรจีนเพื่อบํารุงกระเพาะอาหารและบํารุงเลือดได้',\n",
       " 'ตรวจตอนฉีกขาดแล้ว หมอนรองกระดูกสันหลังส่วนเอวไม่มีปัญหาอะไร',\n",
       " 'สีเลือดแดงสดหรือเปล่า? เป็นสีหยด หรือเป็นสีที่พ่นออกมา หรือเป็นสีบนกระดาษ',\n",
       " 'ปวดประจําเดือนช่วงมีประจําเดือน แต่ปกติไม่ปวด (เพศหญิง อายุ 37 ปี)',\n",
       " 'ตอนนี้อาการไอลดลงมาก แต่พอนอนใกล้หน้าอกก็หอบเล็กน้อย',\n",
       " 'อาจเกิดจากการบาดเจ็บของเยื่อบุโพรงมดลูก ทําให้เกิดการติดต่อของเยื่อมดลูก การอักเสบของอุ้งเชิงกราน ฯลฯ',\n",
       " 'ฉันไปโรงพยาบาลเมื่อสองสัปดาห์ที่แล้ว ตรวจเลือดแล้ว ไม่มีปัญหา เม็ดเลือดขาว 7.1',\n",
       " 'ตกขาวของฉันเป็นน้ําในเดือนที่ผ่านมา ปวดหลัง และปวดท้องเมื่อสัปดาห์ที่แล้ว',\n",
       " 'จะเกี่ยวข้องกับอาการท้องอืดหรือเปล่า ฉันท้องอืดมาเดือนกว่าแล้ว',\n",
       " 'การรักษาด้วยยาเป็นด้านหนึ่ง สิ่งสําคัญที่สุดคือการปรับพฤติกรรมการใช้ชีวิต',\n",
       " 'ในระยะเฉียบพลัน สามารถรักษาให้หายขาดได้ด้วยการรักษาอย่างทันท่วงที',\n",
       " 'ไม่รู้ว่าพวกคุณมีผู้เชี่ยวชาญด้านที่เกี่ยวข้องหรือไม่',\n",
       " 'ผลการตรวจพบว่าทารกติดเชื้อทางเดินหายใจส่วนบนและโรคสมองอักเสบจากไวรัส',\n",
       " 'อาการบาดเจ็บของเนื้อเยื่ออ่อนที่เท้าเปล่าใช้เวลานานเท่าใดจึงจะสามารถเดินได้ (ชาย อายุ 25 ปี)',\n",
       " 'ความผิดปกติของข้อต่อขากรรไกร และการเปิดปากจํากัดเป็นเวลาหนึ่งเดือน (เพศหญิง อายุ 21 ปี) ไม่สามารถแสดงภาพได้เนื่องจากปัญหาความเป็นส่วนตัว',\n",
       " 'หากผลตรวจเป็นลบหลังจากพฤติกรรมเสี่ยงสูงสามเดือน ก็ตัดความเป็นไปได้ในการติดเชื้อออกแล้วใช่ไหม?',\n",
       " 'นี่คือภาวะหนังหุ้มปลายอวัยวะเพศ แนะนําให้ทําการผ่าตัดหนังหุ้มปลาย',\n",
       " 'ขอถามหน่อยว่ากระดูกสันหลังส่วนคอเจ็บตรงบริเวณที่เชื่อมกระดูกสันหลังส่วนขวากับไหล่เมื่อหมุนศีรษะจากขวาไปซ้าย สามารถเสริมการออกกําลังกายแบบนี้ได้หรือไม่?',\n",
       " 'การระบายอากาศในโพรงจมูกของคุณปกติหรือไม่? มีอาการคันจมูกเมื่อไหลออกมาทางด้านหน้าหรือไม่?',\n",
       " 'ครั้งนี้ใช้เวลานานนิดหน่อย และมีอาการปวดเล็กน้อยบริเวณหน้าอกที่ไม่มั่นคง แต่ไม่เจ็บมากนัก',\n",
       " 'โดยทั่วไปต่อมน้ําเหลืองเป็นสถานที่ที่เซลล์ต่อมน้ําเหลืองเพิ่มขึ้นเพื่อต้านแบคทีเรีย หากคุณเป็นโรคปอดบวม อาจทําให้ต่อมน้ําเหลืองโตได้',\n",
       " 'การรักษาคือการทําความสะอาด ใช้ยาสูดเข้าไป แล้วค่อยพ่นลมลง',\n",
       " 'ในกรณีนี้สามารถดื่มเม็ดกรดบอฟลอกซาดีนได้หรือไม่? ลดอุณหภูมิลงก่อน',\n",
       " 'พักผ่อนให้มาก ไม่ดื่มแอลกอฮอล์ นอนดึก เหนื่อยล้า และกังวลมากเกินไป',\n",
       " 'คุณสามารถไปรักษาด้วยยาจีนในพื้นที่และดื่มยาจีนเพื่อปรับสมดุลได้',\n",
       " 'โดยทั่วไปหลังจากผ่านไปสามเดือน คุณสามารถค่อยๆกลับมาใช้ชีวิตตามปกติได้',\n",
       " 'โอเค ฉันจะช่วยคุณทําให้มีเพศสัมพันธ์นานขึ้น',\n",
       " 'สวัสดี คุณได้รับบาดเจ็บมานานแค่ไหนแล้ว? คุณเคยตรวจไหม?',\n",
       " 'งั้นอย่าอาบน้ําในขณะนี้ แต่คุณต้องได้รับการรักษา',\n",
       " 'ปกติรักษาอุจจาระให้นิ่มและไม่แห้ง จะเป็นประโยชน์ต่อการตอบสนองของไต',\n",
       " 'ถ้าอากาศเย็น อาการของคุณจะแย่ลงหรือไม่?',\n",
       " 'ถ้าไม่มีการกลายพันธุ์ของฟันด์ ก็ไม่เหมาะสําหรับการใช้ยาแบบมุ่งเป้าใช่ไหม?',\n",
       " 'ฉันชื่อ ดร. วางมินหยู หากคุณต้องการคําปรึกษาเพิ่มเติม คุณสามารถค้นหาบันทึกการให้คําปรึกษาที่ผ่านมา และคลิกที่รูปโปรไฟล์ของฉันเพื่อเข้าสู่หน้าแรกเพื่อรับคําปรึกษา หากไม่สามารถคลิกที่รูปโปรไฟล์ได้ โปรดแจ้งฝ่ายบริการลูกค้า ขอให้คุณสุขภาพแข็งแรง',\n",
       " 'โรคโลหิตจาง กินยาเม็ดโคลเซียมชนิดใดดี? (ชาย อายุ 15 ปี)',\n",
       " 'จะฟื้นตัวได้เต็มที่ภายในหนึ่งถึงสองเดือน? นั่นหมายความว่า อาการหูอื้อจะค่อยๆ ฟื้นตัวหรือไม่? แล้วอาการหูอื้อจะเกี่ยวข้องกับวันที่หกหรือไม่? อาการกลิ่นก็ยังไม่ฟื้นตัว',\n",
       " 'โดยทั่วไปโอเค ราคาอาจแพงกว่าประมาณ 800-900',\n",
       " 'สวัสดี นานแค่ไหนแล้ว? ไม่สบายตรงไหน? ตอนนี้ครีเอตินีนเท่าไร? คุณเป็นโรคความดันโลหิตสูงหรือเบาหวานหรือไม่?',\n",
       " 'ขอบคุณ ฉันสามารถกินผักและผลไม้ได้หรือไม่?',\n",
       " 'แผลที่มีเลือดออกจะไม่ติดต่อหากสัมผัสกับเลือดของผู้ป่วยเอดส์',\n",
       " 'อาการบาดเจ็บในอดีต การอักเสบของหูชั้นกลาง และการเปลี่ยนแปลงของการเผาผลาญของธาตุในร่างกายอาจเกิดได้',\n",
       " 'ผู้ใหญ่ส่วนใหญ่เคยติดเชื้อแล้ว แต่ภูมิคุ้มกันของเราแข็งแรงและสามารถกําจัดแบคทีเรียได้',\n",
       " 'สวัสดี ปกติจะปวดท้อง ท้องอืด อาเจียน และหยุดขับอากาศและถ่ายอุจจาระ',\n",
       " 'หนึ่งสัปดาห์แล้ว ในระหว่างการซ่อมแซม ฉันสามารถเดินได้นานไหม?',\n",
       " 'อืม ฉันแปะครีมแก้ไอให้เขา แต่ผลลัพธ์ช้ามาก',\n",
       " 'มีปัญหาที่ไหล่หรือไม่? กดกระดูกใต้ไหล่ด้วยนิ้วแล้วรู้สึกเจ็บเล็กน้อยบริเวณหนึ่ง',\n",
       " 'ตอนนี้รู้สึกว่าการเคลื่อนไหวของทารกในครรภ์เป็นปัญหาสําหรับฉัน มันเคลื่อนไหวในเวลากลางคืนและฉันนอนไม่หลับ',\n",
       " 'ส่วนใหญ่ยังมีอาการไอ หายใจ และมีเสมหะอยู่ คอได้ยินเสียงอักเสบและเจ็บ',\n",
       " 'น้ําในช่องเยื่อหุ้มปอดด้านซ้าย การเปลี่ยนแปลงของกระดูกสันหลังด้านหน้าอก 8.10.11 พิจารณาว่าอาจแพร่กระจายไปยังกระดูก',\n",
       " 'แพทย์ที่โรงพยาบาลของเราให้ฉีดท่อทางเดินอาหารและท่อปัสสาวะ เราไม่ฉีดได้ไหม เขาบอกว่าต้องฉีด',\n",
       " 'มีอาการแน่นหน้าอกและหายใจไม่สะดวก หายใจลําบาก และหายใจลําบาก',\n",
       " 'หากกลืนยาก คุณสามารถใช้ถุงน้ําเกลือและฉีดยาไอบิโลเฟนได้',\n",
       " 'อืม ฉันกังวลไปตลอดเลย ปีนี้ปีนี้ไปโรงพยาบาลไม่น้อย',\n",
       " 'สวัสดี คุณสามารถระบุรายละเอียดได้หรือไม่? เช่น อายุ อาการ ฯลฯ',\n",
       " 'เด็กอายุ 1 ขวบที่เป็นหวัด น้ํามูกไหล และไอ กินปลาได้ไหม (ผู้ชาย อายุ 12 เดือน)',\n",
       " 'สวัสดี ประจําเดือนครั้งสุดท้ายของคุณมาเมื่อไหร่?',\n",
       " 'มีแนวโน้มสูงที่จะติดเชื้อหรือมดลูกฟื้นตัวไม่สมบูรณ์',\n",
       " 'กําลังถอนไตเพื่อลดน้ําหนัก แต่มีอาการท้องผูก ต้องทําอย่างไร (เพศหญิง อายุ 22 ปี)',\n",
       " 'โดยทั่วไปต้องพักผ่อนไม่กี่วัน ค่าใช้จ่ายจะแตกต่างกันไปในแต่ละที่ ปกติประมาณ 5,000 หยวน',\n",
       " 'วิธีรักษาโรคอุ้งเชิงกรานอักเสบจากปากมดลูกกร่อน (เพศหญิง อายุ 28 ปี)',\n",
       " 'ตอนนี้ฉันจําเป็นต้องแนะนํายาให้คุณหรือไม่?',\n",
       " 'โรคโลหิตจางระดับปานกลาง ออกกําลังกายให้ดี (เพศหญิง อายุ 47 ปี)',\n",
       " 'มีผลตรวจตอนนั้นไหม ทานยามาสามปีแล้วหรือยัง?',\n",
       " 'หากสัมผัสกับสารก่อภูมิแพ้ตลอดเวลา อาจจะไม่หายขาด',\n",
       " 'บ้านของฉันอยู่ห่างจากโรงพยาบาลมาก มีวิธีใดบ้างที่จะบรรเทาอาการชั่วคราวได้',\n",
       " 'เริ่มมีอาการปวดเส้นประสาทหน้า หลังจากทายาบรรเทาอาการแล้วอุดฟัน ก็ยังคงมีอาการปวดบวมอัตโนมัติอยู่',\n",
       " 'คุณจําเป็นต้องเข้ารับการรักษาในโรงพยาบาลโดยการให้ยาทางระบบทางหลอดเลือดดํา อย่าลืม ตอนนี้อาการของคุณค่อนข้างอันตราย',\n",
       " 'สวัสดี คุณเป็นตัวเองหรือคนอื่น อายุเท่าไหร่?',\n",
       " 'เป็นไปได้ว่าอาการจะดีขึ้นเอง แต่ไม่รู้ว่าเมื่อไหร่จะมีปัจจัยกระตุ้นทําให้ปวดอีก',\n",
       " 'ยานี้เป็นยาแก้น้ํามูกไหล ตอนนี้น้ํามูกยังคัดจมูกอยู่ ยังต้องกินไหม ยานี้มีสารลดไข้อยู่',\n",
       " 'พักผ่อนให้มากขึ้น ประคบร้อน ออกกําลังกายในปริมาณที่พอเหมาะ ทําตามขั้นตอน และสวมรองเท้ารองเท้าอ่อนๆ',\n",
       " 'ตอนนี้ฉันเป็นโรคบรูเซลโลสิสและตั้งครรภ์ได้เดือนกว่าแล้ว',\n",
       " 'คนประเภทใดที่ค่อนข้างสบาย? จะไม่มีความเจ็บปวดในอนาคตหรือไม่? มีค่าใช้จ่ายหรือไม่?',\n",
       " 'สวัสดี คุณมีไข้ น้ํามูกไหล จามหรือไม่?',\n",
       " 'คุณหมอ จะป้องกันไม่ให้เกิดซ้ําได้อย่างไรในอนาคต?',\n",
       " 'ขอบคุณสําหรับความเข้าใจ ยินดีต้อนรับให้คะแนน \"พอใจมาก\" ขอบคุณสําหรับการสนับสนุน การให้คําปรึกษาออนไลน์มีข้อจํากัด แต่ถ้าไม่ครอบคลุม กรุณาครอบคลุม',\n",
       " 'ดังนั้น กรุณาดูในรายงานนี้ว่ามีโรคอะไรที่ต้องดู',\n",
       " 'การรักษาแบบประคับประคองของการตั้งครรภ์นอกมดลูกโดยทั่วไปจําเป็นต้องตรวจเลือดและอัลตราซาวด์ตลอดเวลาตามอาการ',\n",
       " 'สวัสดีคุณหมอ นี่คือคําถามของฉัน ไส้เลื่อนสามารถหายเองได้หรือไม่ (ชาย อายุ 1 เดือน)',\n",
       " 'เวลาตีน่องจะมีเสียงแตกต่างกัน เป็นเพราะขาดแคลเซียมหรือเปล่า (เพศหญิง อายุ 18 ปี)',\n",
       " 'สวัสดี คุณได้ฉีดยากรดไหลย้อนเพื่อรักษาอาการร้อนในหัวใจและสีน้ําตาลผิดปกติหรือไม่?',\n",
       " 'สวัสดี คุณสามารถไปที่แผนกทันตกรรมหรือคลินิกทันตกรรมเพื่อเจาะฟันและระบายน้ําไปยังโพรงฟันได้ อาการปวดจะทุเลาลงอย่างรวดเร็ว',\n",
       " 'การส่องกล้องตรวจลําไส้ใหญ่เป็นการตรวจโดยการดมยาสลบหรือไม่?',\n",
       " 'ยาที่มีส่วนผสมของยาแคลเซียมสามารถรับประทานได้อย่างเหมาะสมหรือไม่?',\n",
       " 'เวลาปวดจะมีอาการบีบตัวทั้งสองข้าง และบีบตัวทั้งสองข้าง เกิดอะไรขึ้น?',\n",
       " 'ถุงน้ําเล็กก็สามารถสังเกตได้ หากใหญ่หรือมีอาการไม่สบายก็สามารถผ่าตัดได้',\n",
       " 'กระดูกสันหลังส่วนคอไม่สบาย กระดูกสันหลังส่วนคอตรงไปเกี่ยวข้องกับกระดูกสันหลังส่วนคอหรือไม่?',\n",
       " 'ถ้าตั้งครรภ์หลังจากผ่านไปเดือนกว่า จะมีลูกได้หรือไม่?',\n",
       " 'ใช่ อาการนี้ไม่ได้ผลดีนัก ไม่ใช่ว่ายาจะรักษาให้หายขาด',\n",
       " 'งั้นไปโรงพยาบาลเพื่อตรวจความรุนแรงของหู ดูว่าจําเป็นต้องให้น้ําเกลือหรือกินยา',\n",
       " 'พบติ่งเนื้อในถุงน้ําดีมา 2 ปีแล้ว และตรวจพบนิ่วในถุงน้ําดีเมื่อวันก่อน',\n",
       " 'สวัสดี! คุณมีอาการนี้มานานแค่ไหนแล้ว?',\n",
       " 'ก่อนหน้านี้ค่อนข้างกังวลเรื่องบทความ ช่วงนี้บทความก็ได้รับการตอบรับแล้ว',\n",
       " 'เป็นแค่อาการบวมน้ําเล็กน้อย อย่าใช้ยาขับปัสสาวะ',\n",
       " 'ก็สามารถสังเกตอาการได้ชั่วคราว แต่ก็มีความเสี่ยงที่จะมีเลือดออก',\n",
       " 'วิธีรักษาต่อมลูกหมากอักเสบเรื้อรังให้หายขาด กินยาจีนหรือยาแผนปัจจุบัน (ชาย อายุ 21 ปี)',\n",
       " 'ในอนาคต หลีกเลี่ยงสภาพแวดล้อมที่เสียงดัง ไม่สามารถใช้ยาที่เป็นพิษต่อหูได้ ถ้าไม่มีการเปลี่ยนแปลงมาก ให้ตรวจการได้ยินทุกปี',\n",
       " 'เยื่อหุ้มปอดอักเสบจากวัณโรคกินโจ๊กได้ไหม? (เพศหญิง อายุ 26 ปี)',\n",
       " 'ฉันไปตรวจเมื่อช่วงหยุดฤดูร้อนปีที่แล้ว เริ่มถ่ายอุจจาระมีเลือดออกมาก มีสีแดงสด ตอนแรกกินยาเม็ดเมซาลาโซลและยาเหน็บ พอดีขึ้นนิดหน่อยก็กลับมาเป็นซ้ํา จากนั้นฉันกินยาจีนมาหลายเดือนแล้ว เลือดไม่มาก แต่ก็มีเลือดอยู่เสมอ และจํานวนวันละประมาณ 2-3 ครั้ง ตอนนี้ฉันกินยาแผนปัจจุบันแล้ว เลือดน้อยลงนิดหน่อย พอปวดท้องก็หยุดถ่าย (ไม่ใช่อาการปวดท้องแบบนั้น)',\n",
       " 'ไม่เป็นไร ฉันขอให้คุณหายไวๆ หากคุณแน่ใจกับคําตอบของฉัน คุณสามารถคลิกการประเมินที่มุมขวาบนเพื่อเลือก (พอใจมาก) และสามารถได้รับบัตรตรวจติดตามฟรีได้',\n",
       " 'สวัสดีครับ สามารถรับประทานได้ แนะนําให้ตรวจอุจจาระดูผล',\n",
       " 'เพิ่งตั้งครรภ์ ฉันใช้น้ํามันเพื่อดูแลใบหน้าของลูกค้า แล้วก็ใช้น้ํามันต้นชาเองที่บ้าน',\n",
       " 'เพราะตอนนี้กินอาหารเสริมแล้ว คนแก่มักจะกลืนอาหารโดยไม่ล้างมือ',\n",
       " 'เข้าใจแล้ว ดูแผลที่ลิ้นแล้วจะรู้ว่าเป็นเพราะอะไร',\n",
       " 'สวัสดี ทารกมีอาการอย่างไร ท้องเสียหรือไม่?',\n",
       " 'สองวันมานี้ บางครั้งตื่นแล้ว บางครั้งตอนปวดก็ไม่ตื่น แต่ก็ไม่พูด',\n",
       " 'จะทําอย่างไรหากวินิจฉัยว่ามีอาการปวดกล้ามเนื้อเอว? (เพศชาย อายุ 25 ปี) ไม่สามารถแสดงภาพได้เนื่องจากปัญหาความเป็นส่วนตัว',\n",
       " 'โปรดถ่ายรูปและอัปโหลดรายงานการตรวจที่เกี่ยวข้องเพื่อการวิเคราะห์อย่างเป็นมืออาชีพ',\n",
       " 'ผู้สูงอายุที่กล้ามเนื้อฉีกขาดควรกินอาหารเสริมอะไรดี (เพศหญิง อายุ 18 ปี)',\n",
       " 'อาการดําๆ จะค่อยๆ ดีขึ้น ไม่ทิ้งรอยแผลเป็น',\n",
       " 'หากไม่ได้ผล สามารถนวดมุมข้างในของดวงตาบ่อยๆ',\n",
       " 'ไม่มียาเฉพาะสําหรับกรณีนี้ หมายความว่ากินยาไม่ได้ผล',\n",
       " 'ฉันแค่มีอาการปวดข้อเข่าเมื่อสภาพอากาศเปลี่ยนแปลง แต่ตรวจรูมาตอยด์แล้วอาการดีขึ้น',\n",
       " 'ตอนนี้ยังไม่มีเวลา อยากซื้อยา กินเพื่อควบคุมอาการปวดก่อน',\n",
       " 'ไม่มีทางอื่น มีแต่ต้องค่อยๆ กิน หากร่างกายมีน้ําหนักมาก การฟื้นตัวจะช้ามาก',\n",
       " 'หูอื้อที่มีอาการนานกว่าหนึ่งปี ควรใช้การบําบัดแบบปิดบัง',\n",
       " 'คนไข้วัณโรคปอดระยะกลางสามารถรักษาให้หายขาดได้หรือไม่ (ชาย อายุ 29 ปี)',\n",
       " 'ก่อนหน้านี้ ลูกของฉันเป็นหวัดและไอ ตอนนี้ก็ไม่หายแล้ว',\n",
       " 'หลังจากผ่าตัดมะเร็งกระเพาะอาหารแล้ว จะไม่เป็นโรคโลหิตจางได้อย่างไร (เพศหญิง อายุ 60 ปี)',\n",
       " 'กรุณารอสักครู่ ฉันต้องอ่านข้อมูลอย่างละเอียด',\n",
       " 'อาการและวิธีการรักษาข้อไหล่ติด (ชาย อายุ 35 ปี)',\n",
       " 'อาการปวดฟันผุมักทําให้ฟันอักเสบ',\n",
       " 'ภาวะอ่อนเพศที่เกิดจากอัณฑะอักเสบจากโรคลมชักสามารถรักษาให้หายขาดได้หรือไม่ (ชาย อายุ 25 ปี)',\n",
       " 'กดเข้าไป แล้วนอนบนเตียง อย่าปล่อยให้ออกมา ผ่านไปสิบนาที ก็สามารถขับออกมาได้',\n",
       " 'ฉันเคยทําแท้งมาก่อน และกําลังทําการผ่าตัดขูดมดลูกนี้ จะมีผลกระทบมากไหม',\n",
       " 'กินมาหลายวันแล้วไม่มีอะไรดีขึ้น เลยถามหมอว่ามียาอื่นที่ใช้รักษาอีกไหม',\n",
       " 'อาการตอนนี้เธอคือเวลาใช้มือกดแล้วรู้สึกเจ็บเล็กน้อย เดินได้ดี แต่เข่าไม่แข็งแรงมาก',\n",
       " 'อืม เข้าใจแล้ว ขอบคุณ แค่ตรวจติดตามเป็นระยะก็พอ',\n",
       " 'ตอนนี้ฉันต้องการกินยาเพื่อบํารุงตัวเอง ฉันเป็นหวัดง่าย มีภูมิคุ้มกันต่ํา และเป็นโรคจมูกอักเสบด้วย',\n",
       " 'สวัสดี โดยทั่วไปแนะนําให้เปลี่ยนไปเป็นนมผงไฮโดรไลซ์หรือนมผงกรดอะมิโน',\n",
       " 'หากไม่ได้ผล คุณต้องทําซ้ําอีกหลายครั้ง คุณสามารถทานยาเหล่านี้ต่อไป พักผ่อนให้เพียงพอ',\n",
       " 'การรับประทานอาหารเป็นเวลานานอาจทําให้เกิดภาวะตับแข็งได้ ควรได้รับการรักษาโดยเร็วที่สุด',\n",
       " 'แต่ในคู่มือข้างต้นไม่มีวิธีใช้ยาสําหรับทารกอายุสี่เดือน',\n",
       " 'ปวดบริเวณเอวส่วนล่างบางครั้งเหมือนกระดูกหัก (ชาย อายุ 30 ปี)',\n",
       " 'มีผลกระทบแน่นอน โดยเฉพาะหากคุณเคยเป็นโรคคออักเสบมาก่อน',\n",
       " 'ติดเชื้อแบคทีเรียหลังผ่าตัดเปิดริดสีดวงทวาร มีความเสี่ยง (เพศหญิง อายุ 65 ปี)',\n",
       " 'ไปตรวจที่โรงพยาบาลหรือกินยาแล้วจะดีขึ้นเอง?',\n",
       " 'สวัสดี สาเหตุอะไรที่กระตุ้นให้เกิดกะทันหัน?',\n",
       " 'สวัสดี ยินดีที่ได้ตอบคําถามของคุณ ไม่ร้ายแรง',\n",
       " 'แนะนําให้คุณไปโรงพยาบาลเพื่อตรวจการได้ยินด้วยคลื่นไฟฟ้าและการป้องกันเสียงเพื่อดูว่ามีอาการหูหนวกชนิดใด จากอาการที่คุณอธิบาย มีแนวโน้มที่จะเกิดโรคประสาทมาก แนะนําให้รักษาโดยเร็วที่สุด',\n",
       " 'สวัสดี อาการนี้เป็นผื่นผิวหนังที่เกิดจากภูมิแพ้',\n",
       " 'คุณไปตรวจโรคประสาทวิทยาที่ไหน?',\n",
       " 'เพียงสองปีที่ผ่านมา ส่งครั้งละพัก ส่งปีละ 2-3 ครั้ง',\n",
       " 'กลัวหนาวก็โอเค มียาที่ดีกว่านี้ไหมที่ช่วยปรับประจําเดือนของฉัน',\n",
       " 'โดยปกติจะใช้ยาเหน็บช่องคลอดร่วมกับยาแก้อักเสบที่รับประทานหรือยาแก้อักเสบแบบหยด',\n",
       " 'ตรวจการตั้งครรภ์ก่อนกําหนด อาการแบบนี้ดีไหม? (เพศหญิง อายุ 30 ปี) ไม่สามารถแสดงภาพได้เนื่องจากปัญหาความเป็นส่วนตัว',\n",
       " 'แลคโตโลสนี้ขายที่ไหน? ร้านขายยาหรือ???',\n",
       " 'หากไม่มีอาการพิเศษ สามารถรักษาโรคไตได้',\n",
       " 'ฉันขอให้คุณดีขึ้นเรื่อยๆ หากคุณมีปัญหาใด ๆ คุณสามารถบอกฉันได้ เราจะทําการปรับปรุงต่อไป',\n",
       " 'ความหมายของสุขภาพแข็งแรงคืออะไร? ผู้ป่วยหลายคนที่ไม่สามารถตั้งครรภ์ก็ไม่มีปัญหาทางกาย',\n",
       " 'เมื่ออาการอักเสบดีขึ้น ริดสีดวงทวารจะค่อยๆ ลดลง และคุณยังพ่นยาอยู่ เดี๋ยวก็ค่อยๆ ดีขึ้น',\n",
       " 'อืม หัวนมบอดเข้าไป แล้วนําหัวนมออกมา ถือว่าแตก ก็ไม่น่าจะมีปัญหาใช่ไหม',\n",
       " 'ฉันไปหาหมอไปครั้งหนึ่งแล้ว หมอสั่งยาให้ กินแล้วไม่ค่อยดีขึ้น',\n",
       " 'โอเค ฉันเข้าใจแล้ว แปลว่าอาจจะเป็นอาการแพ้ใช่ไหม?']"
      ]
     },
     "execution_count": 26,
     "metadata": {},
     "output_type": "execute_result"
    }
   ],
   "source": [
    "import tqdm\n",
    "predictions = []\n",
    "for text in tqdm.tqdm(x_test):\n",
    "    predictions.append(translate_text(text))\n",
    "\n",
    "predictions"
   ]
  },
  {
   "cell_type": "code",
   "execution_count": 27,
   "id": "cefeb91d-9dc8-456a-9529-bd960abe95b2",
   "metadata": {},
   "outputs": [
    {
     "data": {
      "text/plain": [
       "1801    ตอนเช้าจะมีน้ำมูกเขียวแต่ไม่มาก เวลาอื่นไม่มีน...\n",
       "1190    แบบนี้แสดงว่าเป็นโรคเบาหวานจริง ๆ และอาจเป็นมา...\n",
       "1817    ช่วงก่อนหน้านี้ ผลตรวจปัสสาวะของฉันพบว่ามีโปรต...\n",
       "251               ถ้าอย่างนั้นก็ไม่มีปัญหาใหญ่อะไรใช่ไหม?\n",
       "2505    ไม่มีอะไรมีสรรพคุณพิเศษ ทำได้แต่ติดตามผลการตรวจไป\n",
       "                              ...                        \n",
       "2497    นิยามของการมีสุขภาพดีคืออะไร คนไข้ที่มีบุตรยาก...\n",
       "787     เมื่ออาการอักเสบดีขึ้น เสมหะจะค่อยๆ ลดลง คุณยั...\n",
       "2636    อืม หัวนมบอด พอเปิดหัวนมขึ้นมาก็เห็นเป็นรอยแยก...\n",
       "2538    ผมเคยไปหามาครั้งนึง แล้วหมอก็สั่งยาให้ กินแล้ว...\n",
       "402     โอเค เข้าใจแล้ว แต่ยังเป็นไปได้ว่าเป็นภูมิแพ้ใ...\n",
       "Name: translation, Length: 300, dtype: object"
      ]
     },
     "execution_count": 27,
     "metadata": {},
     "output_type": "execute_result"
    }
   ],
   "source": [
    "ref = []\n",
    "ref = y_test\n",
    "ref"
   ]
  },
  {
   "cell_type": "code",
   "execution_count": 28,
   "id": "1e573fd8-56b6-40f1-a39c-43869c976734",
   "metadata": {},
   "outputs": [],
   "source": [
    "syn = {\n",
    "    '้ํา' : '้ำ',\n",
    "    '่ํา' : '่ำ',\n",
    "    '๊ํา' : '๊ำ',\n",
    "    '๋ํา' : '๋ำ',\n",
    "    'ํา' : 'ำ'\n",
    "}\n",
    "mem = []\n",
    "for data in predictions:\n",
    "    s = data\n",
    "    for k,v in syn.items(): s = s.replace(k,v)\n",
    "    mem.append(s)\n",
    "predictions = mem"
   ]
  },
  {
   "cell_type": "code",
   "execution_count": 29,
   "id": "7d2873c3-75e0-4fa0-9f07-35a51e9019fe",
   "metadata": {},
   "outputs": [
    {
     "name": "stdout",
     "output_type": "stream",
     "text": [
      "BLEU score: 29.02\n"
     ]
    }
   ],
   "source": [
    "from pythainlp.tokenize import word_tokenize\n",
    "import sacrebleu\n",
    "\n",
    "# Tokenize predictions and references\n",
    "tokenized_preds = [\" \".join(word_tokenize(pred)) for pred in predictions]\n",
    "tokenized_refs = [\" \".join(word_tokenize(r)) for r in ref]\n",
    "\n",
    "# Compute BLEU with no tokenization (since we already tokenized)\n",
    "score = sacrebleu.corpus_bleu(tokenized_preds, [tokenized_refs], tokenize=\"none\")\n",
    "print(f\"BLEU score: {score.score:.2f}\")\n",
    "#29.02"
   ]
  },
  {
   "cell_type": "code",
   "execution_count": 30,
   "id": "3f00c722-29c3-446e-ba99-1b682cc081b0",
   "metadata": {},
   "outputs": [],
   "source": [
    "with open(\"summit_MT/nllb-200-1.3B(fine-tune-max_length=1024)(val).txt\", \"w\", encoding=\"utf-8\") as f:\n",
    "    for item in predictions:\n",
    "        f.write(f\"{item}\\n\")"
   ]
  },
  {
   "cell_type": "code",
   "execution_count": 31,
   "id": "4b407889-f2cf-49bf-84ca-06035f9280be",
   "metadata": {},
   "outputs": [
    {
     "name": "stderr",
     "output_type": "stream",
     "text": [
      "100%|██████████| 2000/2000 [32:12<00:00,  1.03it/s]\n"
     ]
    }
   ],
   "source": [
    "answer = []\n",
    "for text in tqdm.tqdm(data_test['source']):\n",
    "    answer.append(translate_text(text))"
   ]
  },
  {
   "cell_type": "code",
   "execution_count": 32,
   "id": "f103e139-9090-4be5-846f-d259ef92bcfe",
   "metadata": {},
   "outputs": [
    {
     "data": {
      "text/plain": [
       "'[ตอบกลับอัตโนมัติ] สวัสดี มีเรื่องเร่งด่วน โปรดฝากคําถามไว้ ฉันจะตอบคําถามของคุณโดยเร็วที่สุด ขออภัยด้วย'"
      ]
     },
     "execution_count": 32,
     "metadata": {},
     "output_type": "execute_result"
    }
   ],
   "source": [
    "translate_text(data_test['source'][0])"
   ]
  },
  {
   "cell_type": "code",
   "execution_count": 34,
   "id": "a6b7fef3-47a6-4713-9228-52e06455a953",
   "metadata": {},
   "outputs": [],
   "source": [
    "mem = []\n",
    "for data in answer:\n",
    "    s = data\n",
    "    for k,v in syn.items(): s = s.replace(k,v)\n",
    "    mem.append(s)\n",
    "answer = mem"
   ]
  },
  {
   "cell_type": "code",
   "execution_count": 35,
   "id": "2d5095de-83eb-4cc3-8874-03b51c5d6996",
   "metadata": {},
   "outputs": [],
   "source": [
    "with open(\"summit_MT/nllb-200-1.3B(fine-tune-chunk64).txt\", \"w\", encoding=\"utf-8\") as f:\n",
    "    for item in answer:\n",
    "        f.write(f\"{item}\\n\")"
   ]
  },
  {
   "cell_type": "code",
   "execution_count": null,
   "id": "7b7209fb-856d-42ce-bf2a-6ff469269346",
   "metadata": {},
   "outputs": [],
   "source": []
  },
  {
   "cell_type": "code",
   "execution_count": null,
   "id": "8c44e19d-d6f9-4c9c-be14-4772797ec9b0",
   "metadata": {},
   "outputs": [],
   "source": []
  },
  {
   "cell_type": "code",
   "execution_count": null,
   "id": "5f747aff-24ef-413e-9ad2-b24d5d45ed51",
   "metadata": {},
   "outputs": [],
   "source": []
  },
  {
   "cell_type": "code",
   "execution_count": null,
   "id": "969b3189-00f2-4a2e-932e-b8ed6d4dd66f",
   "metadata": {},
   "outputs": [],
   "source": []
  },
  {
   "cell_type": "code",
   "execution_count": null,
   "id": "271aee51-2bd8-4dfd-9009-4d855533e398",
   "metadata": {},
   "outputs": [],
   "source": []
  },
  {
   "cell_type": "code",
   "execution_count": null,
   "id": "d6a3a480-4610-4032-bc66-60df296d562d",
   "metadata": {},
   "outputs": [],
   "source": []
  }
 ],
 "metadata": {
  "kernelspec": {
   "display_name": "Python 3 (ipykernel)",
   "language": "python",
   "name": "python3"
  },
  "language_info": {
   "codemirror_mode": {
    "name": "ipython",
    "version": 3
   },
   "file_extension": ".py",
   "mimetype": "text/x-python",
   "name": "python",
   "nbconvert_exporter": "python",
   "pygments_lexer": "ipython3",
   "version": "3.10.14"
  }
 },
 "nbformat": 4,
 "nbformat_minor": 5
}
